{
 "cells": [
  {
   "cell_type": "code",
   "execution_count": 1,
   "metadata": {},
   "outputs": [],
   "source": [
    "%matplotlib inline\n",
    "\n",
    "import numpy as np\n",
    "import pandas as pd\n",
    "\n",
    "from warnings import filterwarnings\n",
    "filterwarnings('ignore') \n",
    "\n",
    "np.random.seed(1234)"
   ]
  },
  {
   "cell_type": "code",
   "execution_count": 2,
   "metadata": {},
   "outputs": [],
   "source": [
    "mu_feats = np.load('../train_data/AllGlobal_Mu_Final.npy')\n",
    "std_feats = np.load('../train_data/AllGlobal_Std_Final.npy')"
   ]
  },
  {
   "cell_type": "code",
   "execution_count": 3,
   "metadata": {},
   "outputs": [],
   "source": [
    "data = pd.read_csv('../test_data/TestOriginal.csv')"
   ]
  },
  {
   "cell_type": "code",
   "execution_count": 4,
   "metadata": {},
   "outputs": [
    {
     "data": {
      "text/html": [
       "<div>\n",
       "<style scoped>\n",
       "    .dataframe tbody tr th:only-of-type {\n",
       "        vertical-align: middle;\n",
       "    }\n",
       "\n",
       "    .dataframe tbody tr th {\n",
       "        vertical-align: top;\n",
       "    }\n",
       "\n",
       "    .dataframe thead th {\n",
       "        text-align: right;\n",
       "    }\n",
       "</style>\n",
       "<table border=\"1\" class=\"dataframe\">\n",
       "  <thead>\n",
       "    <tr style=\"text-align: right;\">\n",
       "      <th></th>\n",
       "      <th>Unnamed: 0</th>\n",
       "      <th>APOGEE_ID</th>\n",
       "      <th>source_id</th>\n",
       "      <th>LOGG</th>\n",
       "      <th>TEFF</th>\n",
       "      <th>ALPHA_M</th>\n",
       "      <th>M_H</th>\n",
       "      <th>C_FE</th>\n",
       "      <th>N_FE</th>\n",
       "      <th>G</th>\n",
       "      <th>...</th>\n",
       "      <th>age_68l</th>\n",
       "      <th>ageErr</th>\n",
       "      <th>logAge</th>\n",
       "      <th>logAgeErr</th>\n",
       "      <th>distKpc</th>\n",
       "      <th>distKpc_68u</th>\n",
       "      <th>distKpc_68l</th>\n",
       "      <th>distErrKpc</th>\n",
       "      <th>logDistKpc</th>\n",
       "      <th>logDistKpcErr</th>\n",
       "    </tr>\n",
       "  </thead>\n",
       "  <tbody>\n",
       "    <tr>\n",
       "      <th>0</th>\n",
       "      <td>1503</td>\n",
       "      <td>2M19290456+4307142</td>\n",
       "      <td>2125911779619216640</td>\n",
       "      <td>2.879289</td>\n",
       "      <td>4862.249023</td>\n",
       "      <td>0.036724</td>\n",
       "      <td>-0.181937</td>\n",
       "      <td>-0.023479</td>\n",
       "      <td>0.223800</td>\n",
       "      <td>11.524463</td>\n",
       "      <td>...</td>\n",
       "      <td>4.7830</td>\n",
       "      <td>1.53330</td>\n",
       "      <td>0.786808</td>\n",
       "      <td>0.107574</td>\n",
       "      <td>0.967112</td>\n",
       "      <td>0.982856</td>\n",
       "      <td>0.951393</td>\n",
       "      <td>0.015731</td>\n",
       "      <td>-0.014523</td>\n",
       "      <td>0.007065</td>\n",
       "    </tr>\n",
       "    <tr>\n",
       "      <th>1</th>\n",
       "      <td>1859</td>\n",
       "      <td>2M19370745+4519071</td>\n",
       "      <td>2079923026463469440</td>\n",
       "      <td>2.513793</td>\n",
       "      <td>4538.331055</td>\n",
       "      <td>0.086931</td>\n",
       "      <td>-0.010547</td>\n",
       "      <td>0.060921</td>\n",
       "      <td>0.187171</td>\n",
       "      <td>12.425525</td>\n",
       "      <td>...</td>\n",
       "      <td>8.2224</td>\n",
       "      <td>3.69990</td>\n",
       "      <td>1.052394</td>\n",
       "      <td>0.139372</td>\n",
       "      <td>1.645653</td>\n",
       "      <td>1.684561</td>\n",
       "      <td>1.612315</td>\n",
       "      <td>0.036123</td>\n",
       "      <td>0.216338</td>\n",
       "      <td>0.009518</td>\n",
       "    </tr>\n",
       "    <tr>\n",
       "      <th>2</th>\n",
       "      <td>2357</td>\n",
       "      <td>2M19460932+4745455</td>\n",
       "      <td>2086595344056333824</td>\n",
       "      <td>2.616982</td>\n",
       "      <td>4544.588379</td>\n",
       "      <td>0.007481</td>\n",
       "      <td>0.316487</td>\n",
       "      <td>0.013361</td>\n",
       "      <td>0.362091</td>\n",
       "      <td>12.677034</td>\n",
       "      <td>...</td>\n",
       "      <td>8.9187</td>\n",
       "      <td>2.20645</td>\n",
       "      <td>1.008102</td>\n",
       "      <td>0.087290</td>\n",
       "      <td>1.605608</td>\n",
       "      <td>1.627360</td>\n",
       "      <td>1.583689</td>\n",
       "      <td>0.021836</td>\n",
       "      <td>0.205640</td>\n",
       "      <td>0.005907</td>\n",
       "    </tr>\n",
       "    <tr>\n",
       "      <th>3</th>\n",
       "      <td>685</td>\n",
       "      <td>2M19102983+3859037</td>\n",
       "      <td>2099634967844670464</td>\n",
       "      <td>2.703944</td>\n",
       "      <td>4709.398926</td>\n",
       "      <td>-0.002344</td>\n",
       "      <td>0.056682</td>\n",
       "      <td>-0.081225</td>\n",
       "      <td>0.286097</td>\n",
       "      <td>11.843385</td>\n",
       "      <td>...</td>\n",
       "      <td>4.3152</td>\n",
       "      <td>1.57270</td>\n",
       "      <td>0.741223</td>\n",
       "      <td>0.118886</td>\n",
       "      <td>1.222850</td>\n",
       "      <td>1.245913</td>\n",
       "      <td>1.199085</td>\n",
       "      <td>0.023414</td>\n",
       "      <td>0.087373</td>\n",
       "      <td>0.008319</td>\n",
       "    </tr>\n",
       "    <tr>\n",
       "      <th>4</th>\n",
       "      <td>1640</td>\n",
       "      <td>2M19320870+4926497</td>\n",
       "      <td>2129817519799408128</td>\n",
       "      <td>2.408561</td>\n",
       "      <td>4732.571289</td>\n",
       "      <td>0.223508</td>\n",
       "      <td>-0.764912</td>\n",
       "      <td>0.039515</td>\n",
       "      <td>0.066366</td>\n",
       "      <td>11.714702</td>\n",
       "      <td>...</td>\n",
       "      <td>7.6736</td>\n",
       "      <td>3.22585</td>\n",
       "      <td>0.978272</td>\n",
       "      <td>0.132499</td>\n",
       "      <td>1.515842</td>\n",
       "      <td>1.543491</td>\n",
       "      <td>1.481835</td>\n",
       "      <td>0.030828</td>\n",
       "      <td>0.180654</td>\n",
       "      <td>0.008852</td>\n",
       "    </tr>\n",
       "  </tbody>\n",
       "</table>\n",
       "<p>5 rows × 39 columns</p>\n",
       "</div>"
      ],
      "text/plain": [
       "   Unnamed: 0           APOGEE_ID            source_id      LOGG         TEFF  \\\n",
       "0        1503  2M19290456+4307142  2125911779619216640  2.879289  4862.249023   \n",
       "1        1859  2M19370745+4519071  2079923026463469440  2.513793  4538.331055   \n",
       "2        2357  2M19460932+4745455  2086595344056333824  2.616982  4544.588379   \n",
       "3         685  2M19102983+3859037  2099634967844670464  2.703944  4709.398926   \n",
       "4        1640  2M19320870+4926497  2129817519799408128  2.408561  4732.571289   \n",
       "\n",
       "    ALPHA_M       M_H      C_FE      N_FE          G  ...  age_68l   ageErr  \\\n",
       "0  0.036724 -0.181937 -0.023479  0.223800  11.524463  ...   4.7830  1.53330   \n",
       "1  0.086931 -0.010547  0.060921  0.187171  12.425525  ...   8.2224  3.69990   \n",
       "2  0.007481  0.316487  0.013361  0.362091  12.677034  ...   8.9187  2.20645   \n",
       "3 -0.002344  0.056682 -0.081225  0.286097  11.843385  ...   4.3152  1.57270   \n",
       "4  0.223508 -0.764912  0.039515  0.066366  11.714702  ...   7.6736  3.22585   \n",
       "\n",
       "     logAge  logAgeErr   distKpc  distKpc_68u  distKpc_68l  distErrKpc  \\\n",
       "0  0.786808   0.107574  0.967112     0.982856     0.951393    0.015731   \n",
       "1  1.052394   0.139372  1.645653     1.684561     1.612315    0.036123   \n",
       "2  1.008102   0.087290  1.605608     1.627360     1.583689    0.021836   \n",
       "3  0.741223   0.118886  1.222850     1.245913     1.199085    0.023414   \n",
       "4  0.978272   0.132499  1.515842     1.543491     1.481835    0.030828   \n",
       "\n",
       "   logDistKpc  logDistKpcErr  \n",
       "0   -0.014523       0.007065  \n",
       "1    0.216338       0.009518  \n",
       "2    0.205640       0.005907  \n",
       "3    0.087373       0.008319  \n",
       "4    0.180654       0.008852  \n",
       "\n",
       "[5 rows x 39 columns]"
      ]
     },
     "execution_count": 4,
     "metadata": {},
     "output_type": "execute_result"
    }
   ],
   "source": [
    "data.head()"
   ]
  },
  {
   "cell_type": "code",
   "execution_count": 5,
   "metadata": {},
   "outputs": [
    {
     "data": {
      "text/plain": [
       "583"
      ]
     },
     "execution_count": 5,
     "metadata": {},
     "output_type": "execute_result"
    }
   ],
   "source": [
    "len(data)"
   ]
  },
  {
   "cell_type": "code",
   "execution_count": 6,
   "metadata": {},
   "outputs": [],
   "source": [
    "feats = ['LOGG', 'TEFF', 'ALPHA_M', 'M_H', 'C_FE', 'N_FE', \\\n",
    "           'G', 'BP', 'RP', 'J', 'H', 'K']\n",
    "\n",
    "featsErr = ['LOGG_ERR', 'TEFF_ERR', 'ALPHA_M_ERR', 'M_H_ERR', 'C_FE_ERR', 'N_FE_ERR', \\\n",
    "           'G_ERR', 'BP_ERR', 'RP_ERR', 'J_ERR', 'H_ERR', 'K_ERR']\n"
   ]
  },
  {
   "cell_type": "code",
   "execution_count": 7,
   "metadata": {},
   "outputs": [],
   "source": [
    "for i in range(len(feats)):\n",
    "    scaledFeat = (data[feats[i]] - mu_feats[i])/std_feats[i]\n",
    "    scaledEFeat = data[featsErr[i]]/std_feats[i]\n",
    "\n",
    "    data[feats[i]+'_NORM'] = scaledFeat\n",
    "    data[featsErr[i]+'_NORM'] = scaledEFeat"
   ]
  },
  {
   "cell_type": "code",
   "execution_count": 8,
   "metadata": {},
   "outputs": [
    {
     "data": {
      "text/html": [
       "<div>\n",
       "<style scoped>\n",
       "    .dataframe tbody tr th:only-of-type {\n",
       "        vertical-align: middle;\n",
       "    }\n",
       "\n",
       "    .dataframe tbody tr th {\n",
       "        vertical-align: top;\n",
       "    }\n",
       "\n",
       "    .dataframe thead th {\n",
       "        text-align: right;\n",
       "    }\n",
       "</style>\n",
       "<table border=\"1\" class=\"dataframe\">\n",
       "  <thead>\n",
       "    <tr style=\"text-align: right;\">\n",
       "      <th></th>\n",
       "      <th>Unnamed: 0</th>\n",
       "      <th>APOGEE_ID</th>\n",
       "      <th>source_id</th>\n",
       "      <th>LOGG</th>\n",
       "      <th>TEFF</th>\n",
       "      <th>ALPHA_M</th>\n",
       "      <th>M_H</th>\n",
       "      <th>C_FE</th>\n",
       "      <th>N_FE</th>\n",
       "      <th>G</th>\n",
       "      <th>...</th>\n",
       "      <th>BP_NORM</th>\n",
       "      <th>BP_ERR_NORM</th>\n",
       "      <th>RP_NORM</th>\n",
       "      <th>RP_ERR_NORM</th>\n",
       "      <th>J_NORM</th>\n",
       "      <th>J_ERR_NORM</th>\n",
       "      <th>H_NORM</th>\n",
       "      <th>H_ERR_NORM</th>\n",
       "      <th>K_NORM</th>\n",
       "      <th>K_ERR_NORM</th>\n",
       "    </tr>\n",
       "  </thead>\n",
       "  <tbody>\n",
       "    <tr>\n",
       "      <th>0</th>\n",
       "      <td>1503</td>\n",
       "      <td>2M19290456+4307142</td>\n",
       "      <td>2125911779619216640</td>\n",
       "      <td>2.879289</td>\n",
       "      <td>4862.249023</td>\n",
       "      <td>0.036724</td>\n",
       "      <td>-0.181937</td>\n",
       "      <td>-0.023479</td>\n",
       "      <td>0.223800</td>\n",
       "      <td>11.524463</td>\n",
       "      <td>...</td>\n",
       "      <td>-0.534979</td>\n",
       "      <td>0.001340</td>\n",
       "      <td>-0.442837</td>\n",
       "      <td>0.000632</td>\n",
       "      <td>-0.347501</td>\n",
       "      <td>0.022224</td>\n",
       "      <td>-0.299855</td>\n",
       "      <td>0.019035</td>\n",
       "      <td>-0.289276</td>\n",
       "      <td>0.016749</td>\n",
       "    </tr>\n",
       "    <tr>\n",
       "      <th>1</th>\n",
       "      <td>1859</td>\n",
       "      <td>2M19370745+4519071</td>\n",
       "      <td>2079923026463469440</td>\n",
       "      <td>2.513793</td>\n",
       "      <td>4538.331055</td>\n",
       "      <td>0.086931</td>\n",
       "      <td>-0.010547</td>\n",
       "      <td>0.060921</td>\n",
       "      <td>0.187171</td>\n",
       "      <td>12.425525</td>\n",
       "      <td>...</td>\n",
       "      <td>0.282078</td>\n",
       "      <td>0.000897</td>\n",
       "      <td>0.223916</td>\n",
       "      <td>0.000818</td>\n",
       "      <td>0.394773</td>\n",
       "      <td>0.022224</td>\n",
       "      <td>0.343976</td>\n",
       "      <td>0.019035</td>\n",
       "      <td>0.319257</td>\n",
       "      <td>0.013399</td>\n",
       "    </tr>\n",
       "    <tr>\n",
       "      <th>2</th>\n",
       "      <td>2357</td>\n",
       "      <td>2M19460932+4745455</td>\n",
       "      <td>2086595344056333824</td>\n",
       "      <td>2.616982</td>\n",
       "      <td>4544.588379</td>\n",
       "      <td>0.007481</td>\n",
       "      <td>0.316487</td>\n",
       "      <td>0.013361</td>\n",
       "      <td>0.362091</td>\n",
       "      <td>12.677034</td>\n",
       "      <td>...</td>\n",
       "      <td>0.499692</td>\n",
       "      <td>0.001248</td>\n",
       "      <td>0.420564</td>\n",
       "      <td>0.000649</td>\n",
       "      <td>0.679237</td>\n",
       "      <td>0.023335</td>\n",
       "      <td>0.635100</td>\n",
       "      <td>0.019035</td>\n",
       "      <td>0.619616</td>\n",
       "      <td>0.017865</td>\n",
       "    </tr>\n",
       "    <tr>\n",
       "      <th>3</th>\n",
       "      <td>685</td>\n",
       "      <td>2M19102983+3859037</td>\n",
       "      <td>2099634967844670464</td>\n",
       "      <td>2.703944</td>\n",
       "      <td>4709.398926</td>\n",
       "      <td>-0.002344</td>\n",
       "      <td>0.056682</td>\n",
       "      <td>-0.081225</td>\n",
       "      <td>0.286097</td>\n",
       "      <td>11.843385</td>\n",
       "      <td>...</td>\n",
       "      <td>-0.193979</td>\n",
       "      <td>0.001279</td>\n",
       "      <td>-0.250455</td>\n",
       "      <td>0.000754</td>\n",
       "      <td>-0.213047</td>\n",
       "      <td>0.023335</td>\n",
       "      <td>-0.266264</td>\n",
       "      <td>0.022394</td>\n",
       "      <td>-0.264711</td>\n",
       "      <td>0.022331</td>\n",
       "    </tr>\n",
       "    <tr>\n",
       "      <th>4</th>\n",
       "      <td>1640</td>\n",
       "      <td>2M19320870+4926497</td>\n",
       "      <td>2129817519799408128</td>\n",
       "      <td>2.408561</td>\n",
       "      <td>4732.571289</td>\n",
       "      <td>0.223508</td>\n",
       "      <td>-0.764912</td>\n",
       "      <td>0.039515</td>\n",
       "      <td>0.066366</td>\n",
       "      <td>11.714702</td>\n",
       "      <td>...</td>\n",
       "      <td>-0.374545</td>\n",
       "      <td>0.001433</td>\n",
       "      <td>-0.296996</td>\n",
       "      <td>0.000541</td>\n",
       "      <td>-0.200824</td>\n",
       "      <td>0.023335</td>\n",
       "      <td>-0.174447</td>\n",
       "      <td>0.019035</td>\n",
       "      <td>-0.154170</td>\n",
       "      <td>0.017865</td>\n",
       "    </tr>\n",
       "  </tbody>\n",
       "</table>\n",
       "<p>5 rows × 63 columns</p>\n",
       "</div>"
      ],
      "text/plain": [
       "   Unnamed: 0           APOGEE_ID            source_id      LOGG         TEFF  \\\n",
       "0        1503  2M19290456+4307142  2125911779619216640  2.879289  4862.249023   \n",
       "1        1859  2M19370745+4519071  2079923026463469440  2.513793  4538.331055   \n",
       "2        2357  2M19460932+4745455  2086595344056333824  2.616982  4544.588379   \n",
       "3         685  2M19102983+3859037  2099634967844670464  2.703944  4709.398926   \n",
       "4        1640  2M19320870+4926497  2129817519799408128  2.408561  4732.571289   \n",
       "\n",
       "    ALPHA_M       M_H      C_FE      N_FE          G  ...   BP_NORM  \\\n",
       "0  0.036724 -0.181937 -0.023479  0.223800  11.524463  ... -0.534979   \n",
       "1  0.086931 -0.010547  0.060921  0.187171  12.425525  ...  0.282078   \n",
       "2  0.007481  0.316487  0.013361  0.362091  12.677034  ...  0.499692   \n",
       "3 -0.002344  0.056682 -0.081225  0.286097  11.843385  ... -0.193979   \n",
       "4  0.223508 -0.764912  0.039515  0.066366  11.714702  ... -0.374545   \n",
       "\n",
       "   BP_ERR_NORM   RP_NORM  RP_ERR_NORM    J_NORM  J_ERR_NORM    H_NORM  \\\n",
       "0     0.001340 -0.442837     0.000632 -0.347501    0.022224 -0.299855   \n",
       "1     0.000897  0.223916     0.000818  0.394773    0.022224  0.343976   \n",
       "2     0.001248  0.420564     0.000649  0.679237    0.023335  0.635100   \n",
       "3     0.001279 -0.250455     0.000754 -0.213047    0.023335 -0.266264   \n",
       "4     0.001433 -0.296996     0.000541 -0.200824    0.023335 -0.174447   \n",
       "\n",
       "   H_ERR_NORM    K_NORM  K_ERR_NORM  \n",
       "0    0.019035 -0.289276    0.016749  \n",
       "1    0.019035  0.319257    0.013399  \n",
       "2    0.019035  0.619616    0.017865  \n",
       "3    0.022394 -0.264711    0.022331  \n",
       "4    0.019035 -0.154170    0.017865  \n",
       "\n",
       "[5 rows x 63 columns]"
      ]
     },
     "execution_count": 8,
     "metadata": {},
     "output_type": "execute_result"
    }
   ],
   "source": [
    "data.head()"
   ]
  },
  {
   "cell_type": "code",
   "execution_count": 9,
   "metadata": {},
   "outputs": [
    {
     "data": {
      "text/plain": [
       "(array([  3.,   4.,  11.,  18.,  32.,  74., 193., 111.,  91.,  46.]),\n",
       " array([1.4344635 , 1.61695094, 1.79943838, 1.98192582, 2.16441326,\n",
       "        2.3469007 , 2.52938814, 2.71187558, 2.89436302, 3.07685046,\n",
       "        3.2593379 ]),\n",
       " <a list of 10 Patch objects>)"
      ]
     },
     "execution_count": 9,
     "metadata": {},
     "output_type": "execute_result"
    },
    {
     "data": {
      "image/png": "[encoded data removed]",
      "text/plain": [
       "<Figure size 432x288 with 1 Axes>"
      ]
     },
     "metadata": {
      "needs_background": "light"
     },
     "output_type": "display_data"
    }
   ],
   "source": [
    "import matplotlib.pyplot as plt\n",
    "\n",
    "plt.hist(data['LOGG'])"
   ]
  },
  {
   "cell_type": "code",
   "execution_count": 10,
   "metadata": {},
   "outputs": [
    {
     "data": {
      "text/plain": [
       "(array([  3.,   4.,  11.,  18.,  32.,  74., 193., 111.,  91.,  46.]),\n",
       " array([-4.07759928, -3.46904399, -2.86048869, -2.25193339, -1.64337809,\n",
       "        -1.03482279, -0.4262675 ,  0.1822878 ,  0.7908431 ,  1.3993984 ,\n",
       "         2.0079537 ]),\n",
       " <a list of 10 Patch objects>)"
      ]
     },
     "execution_count": 10,
     "metadata": {},
     "output_type": "execute_result"
    },
    {
     "data": {
      "image/png": "[encoded data removed]",
      "text/plain": [
       "<Figure size 432x288 with 1 Axes>"
      ]
     },
     "metadata": {
      "needs_background": "light"
     },
     "output_type": "display_data"
    }
   ],
   "source": [
    "plt.hist(data['LOGG_NORM'])"
   ]
  },
  {
   "cell_type": "code",
   "execution_count": 11,
   "metadata": {},
   "outputs": [
    {
     "data": {
      "text/plain": [
       "(array([  3.,   4.,  11.,  18.,  32.,  74., 193., 111.,  91.,  46.]),\n",
       " array([-4.07759928, -3.46904399, -2.86048869, -2.25193339, -1.64337809,\n",
       "        -1.03482279, -0.4262675 ,  0.1822878 ,  0.7908431 ,  1.3993984 ,\n",
       "         2.0079537 ]),\n",
       " <a list of 10 Patch objects>)"
      ]
     },
     "execution_count": 11,
     "metadata": {},
     "output_type": "execute_result"
    },
    {
     "data": {
      "image/png": "[encoded data removed]",
      "text/plain": [
       "<Figure size 432x288 with 1 Axes>"
      ]
     },
     "metadata": {
      "needs_background": "light"
     },
     "output_type": "display_data"
    }
   ],
   "source": [
    "plt.hist((data['LOGG'] - mu_feats[0])/std_feats[0])"
   ]
  },
  {
   "cell_type": "code",
   "execution_count": 12,
   "metadata": {},
   "outputs": [
    {
     "data": {
      "text/plain": [
       "(array([  3.,   6.,  10.,  19.,  60., 136., 162.,  95.,  64.,  28.]),\n",
       " array([-3.79841564, -3.20459073, -2.61076581, -2.0169409 , -1.42311599,\n",
       "        -0.82929107, -0.23546616,  0.35835876,  0.95218367,  1.54600858,\n",
       "         2.1398335 ]),\n",
       " <a list of 10 Patch objects>)"
      ]
     },
     "execution_count": 12,
     "metadata": {},
     "output_type": "execute_result"
    },
    {
     "data": {
      "image/png": "[encoded data removed]",
      "text/plain": [
       "<Figure size 432x288 with 1 Axes>"
      ]
     },
     "metadata": {
      "needs_background": "light"
     },
     "output_type": "display_data"
    }
   ],
   "source": [
    "plt.hist((data['TEFF'] - mu_feats[1])/std_feats[1])"
   ]
  },
  {
   "cell_type": "code",
   "execution_count": 13,
   "metadata": {},
   "outputs": [
    {
     "data": {
      "text/plain": [
       "(array([  3.,   6.,  10.,  19.,  60., 136., 162.,  95.,  64.,  28.]),\n",
       " array([-3.79841564, -3.20459073, -2.61076581, -2.0169409 , -1.42311599,\n",
       "        -0.82929107, -0.23546616,  0.35835876,  0.95218367,  1.54600858,\n",
       "         2.1398335 ]),\n",
       " <a list of 10 Patch objects>)"
      ]
     },
     "execution_count": 13,
     "metadata": {},
     "output_type": "execute_result"
    },
    {
     "data": {
      "image/png": "[encoded data removed]",
      "text/plain": [
       "<Figure size 432x288 with 1 Axes>"
      ]
     },
     "metadata": {
      "needs_background": "light"
     },
     "output_type": "display_data"
    }
   ],
   "source": [
    "plt.hist(data['TEFF_NORM'])"
   ]
  },
  {
   "cell_type": "code",
   "execution_count": 14,
   "metadata": {},
   "outputs": [],
   "source": [
    "data.to_csv('../test_data/TestOriginalNorm.csv')"
   ]
  }
 ],
 "metadata": {
  "kernelspec": {
   "display_name": "Python 3",
   "language": "python",
   "name": "python3"
  },
  "language_info": {
   "codemirror_mode": {
    "name": "ipython",
    "version": 3
   },
   "file_extension": ".py",
   "mimetype": "text/x-python",
   "name": "python",
   "nbconvert_exporter": "python",
   "pygments_lexer": "ipython3",
   "version": "3.6.6"
  }
 },
 "nbformat": 4,
 "nbformat_minor": 2
}
