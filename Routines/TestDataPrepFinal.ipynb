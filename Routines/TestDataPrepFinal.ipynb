{
 "cells": [
  {
   "cell_type": "code",
   "execution_count": 1,
   "metadata": {},
   "outputs": [],
   "source": [
    "%matplotlib inline\n",
    "\n",
    "import numpy as np\n",
    "import pandas as pd\n",
    "\n",
    "from warnings import filterwarnings\n",
    "filterwarnings('ignore') \n",
    "\n",
    "np.random.seed(1234)"
   ]
  },
  {
   "cell_type": "code",
   "execution_count": 2,
   "metadata": {},
   "outputs": [],
   "source": [
    "mu_feats = np.load('../train_data/AllGlobal_Mu_Final.npy')\n",
    "std_feats = np.load('../train_data/AllGlobal_Std_Final.npy')"
   ]
  },
  {
   "cell_type": "code",
   "execution_count": 3,
   "metadata": {},
   "outputs": [],
   "source": [
    "data = pd.read_csv('../test_data/TestOriginal.csv')"
   ]
  },
  {
   "cell_type": "code",
   "execution_count": 4,
   "metadata": {},
   "outputs": [
    {
     "data": {
      "text/html": [
       "<div>\n",
       "<style scoped>\n",
       "    .dataframe tbody tr th:only-of-type {\n",
       "        vertical-align: middle;\n",
       "    }\n",
       "\n",
       "    .dataframe tbody tr th {\n",
       "        vertical-align: top;\n",
       "    }\n",
       "\n",
       "    .dataframe thead th {\n",
       "        text-align: right;\n",
       "    }\n",
       "</style>\n",
       "<table border=\"1\" class=\"dataframe\">\n",
       "  <thead>\n",
       "    <tr style=\"text-align: right;\">\n",
       "      <th></th>\n",
       "      <th>Unnamed: 0</th>\n",
       "      <th>Unnamed: 0.1</th>\n",
       "      <th>APOGEE_ID_1</th>\n",
       "      <th>source_id</th>\n",
       "      <th>LOGG</th>\n",
       "      <th>TEFF</th>\n",
       "      <th>ALPHA_M</th>\n",
       "      <th>M_H</th>\n",
       "      <th>C_FE</th>\n",
       "      <th>N_FE</th>\n",
       "      <th>...</th>\n",
       "      <th>age_68L</th>\n",
       "      <th>ageErr</th>\n",
       "      <th>logAge</th>\n",
       "      <th>logAgeErr</th>\n",
       "      <th>distKpc</th>\n",
       "      <th>distKpc_68u</th>\n",
       "      <th>distKpc_68l</th>\n",
       "      <th>distErrKpc</th>\n",
       "      <th>logDistKpc</th>\n",
       "      <th>logDistKpcErr</th>\n",
       "    </tr>\n",
       "  </thead>\n",
       "  <tbody>\n",
       "    <tr>\n",
       "      <th>0</th>\n",
       "      <td>1721</td>\n",
       "      <td>1910</td>\n",
       "      <td>2M18493114+4440466</td>\n",
       "      <td>2105414275836588544</td>\n",
       "      <td>2.484758</td>\n",
       "      <td>4916.8970</td>\n",
       "      <td>0.014891</td>\n",
       "      <td>-0.168967</td>\n",
       "      <td>-0.153072</td>\n",
       "      <td>0.304528</td>\n",
       "      <td>...</td>\n",
       "      <td>3.8735</td>\n",
       "      <td>0.48350</td>\n",
       "      <td>0.656807</td>\n",
       "      <td>0.048393</td>\n",
       "      <td>1.291147</td>\n",
       "      <td>1.301632</td>\n",
       "      <td>1.281032</td>\n",
       "      <td>0.010300</td>\n",
       "      <td>0.110976</td>\n",
       "      <td>0.003464</td>\n",
       "    </tr>\n",
       "    <tr>\n",
       "      <th>1</th>\n",
       "      <td>2334</td>\n",
       "      <td>2564</td>\n",
       "      <td>2M19141724+4706053</td>\n",
       "      <td>2130805435296026880</td>\n",
       "      <td>3.141841</td>\n",
       "      <td>4836.6406</td>\n",
       "      <td>-0.013280</td>\n",
       "      <td>0.190422</td>\n",
       "      <td>-0.136165</td>\n",
       "      <td>0.277245</td>\n",
       "      <td>...</td>\n",
       "      <td>4.8417</td>\n",
       "      <td>1.39540</td>\n",
       "      <td>0.783746</td>\n",
       "      <td>0.098834</td>\n",
       "      <td>1.159030</td>\n",
       "      <td>1.176261</td>\n",
       "      <td>1.143668</td>\n",
       "      <td>0.016297</td>\n",
       "      <td>0.064095</td>\n",
       "      <td>0.006102</td>\n",
       "    </tr>\n",
       "    <tr>\n",
       "      <th>2</th>\n",
       "      <td>443</td>\n",
       "      <td>550</td>\n",
       "      <td>2M19375183+3949461</td>\n",
       "      <td>2076462107459336192</td>\n",
       "      <td>2.691003</td>\n",
       "      <td>5107.7954</td>\n",
       "      <td>-0.006319</td>\n",
       "      <td>-0.017812</td>\n",
       "      <td>-0.198534</td>\n",
       "      <td>0.457206</td>\n",
       "      <td>...</td>\n",
       "      <td>0.4315</td>\n",
       "      <td>0.06570</td>\n",
       "      <td>-0.336205</td>\n",
       "      <td>0.057725</td>\n",
       "      <td>1.232842</td>\n",
       "      <td>1.243173</td>\n",
       "      <td>1.220394</td>\n",
       "      <td>0.011389</td>\n",
       "      <td>0.090907</td>\n",
       "      <td>0.004016</td>\n",
       "    </tr>\n",
       "    <tr>\n",
       "      <th>3</th>\n",
       "      <td>2332</td>\n",
       "      <td>2562</td>\n",
       "      <td>2M19094793+4707291</td>\n",
       "      <td>2130479945494856064</td>\n",
       "      <td>2.607918</td>\n",
       "      <td>4599.9634</td>\n",
       "      <td>0.088488</td>\n",
       "      <td>0.011713</td>\n",
       "      <td>0.037761</td>\n",
       "      <td>0.240304</td>\n",
       "      <td>...</td>\n",
       "      <td>8.0353</td>\n",
       "      <td>2.90385</td>\n",
       "      <td>1.005245</td>\n",
       "      <td>0.118114</td>\n",
       "      <td>1.902386</td>\n",
       "      <td>1.934231</td>\n",
       "      <td>1.865262</td>\n",
       "      <td>0.034484</td>\n",
       "      <td>0.279299</td>\n",
       "      <td>0.007884</td>\n",
       "    </tr>\n",
       "    <tr>\n",
       "      <th>4</th>\n",
       "      <td>2882</td>\n",
       "      <td>3141</td>\n",
       "      <td>2M19395636+4945522</td>\n",
       "      <td>2135128886815572736</td>\n",
       "      <td>2.508830</td>\n",
       "      <td>4849.5620</td>\n",
       "      <td>-0.017498</td>\n",
       "      <td>0.050134</td>\n",
       "      <td>-0.182170</td>\n",
       "      <td>0.297120</td>\n",
       "      <td>...</td>\n",
       "      <td>2.7227</td>\n",
       "      <td>0.25120</td>\n",
       "      <td>0.472522</td>\n",
       "      <td>0.036772</td>\n",
       "      <td>1.065591</td>\n",
       "      <td>1.072708</td>\n",
       "      <td>1.058693</td>\n",
       "      <td>0.007008</td>\n",
       "      <td>0.027590</td>\n",
       "      <td>0.002856</td>\n",
       "    </tr>\n",
       "  </tbody>\n",
       "</table>\n",
       "<p>5 rows × 40 columns</p>\n",
       "</div>"
      ],
      "text/plain": [
       "   Unnamed: 0  Unnamed: 0.1         APOGEE_ID_1            source_id  \\\n",
       "0        1721          1910  2M18493114+4440466  2105414275836588544   \n",
       "1        2334          2564  2M19141724+4706053  2130805435296026880   \n",
       "2         443           550  2M19375183+3949461  2076462107459336192   \n",
       "3        2332          2562  2M19094793+4707291  2130479945494856064   \n",
       "4        2882          3141  2M19395636+4945522  2135128886815572736   \n",
       "\n",
       "       LOGG       TEFF   ALPHA_M       M_H      C_FE      N_FE  ...  age_68L  \\\n",
       "0  2.484758  4916.8970  0.014891 -0.168967 -0.153072  0.304528  ...   3.8735   \n",
       "1  3.141841  4836.6406 -0.013280  0.190422 -0.136165  0.277245  ...   4.8417   \n",
       "2  2.691003  5107.7954 -0.006319 -0.017812 -0.198534  0.457206  ...   0.4315   \n",
       "3  2.607918  4599.9634  0.088488  0.011713  0.037761  0.240304  ...   8.0353   \n",
       "4  2.508830  4849.5620 -0.017498  0.050134 -0.182170  0.297120  ...   2.7227   \n",
       "\n",
       "    ageErr    logAge  logAgeErr   distKpc  distKpc_68u  distKpc_68l  \\\n",
       "0  0.48350  0.656807   0.048393  1.291147     1.301632     1.281032   \n",
       "1  1.39540  0.783746   0.098834  1.159030     1.176261     1.143668   \n",
       "2  0.06570 -0.336205   0.057725  1.232842     1.243173     1.220394   \n",
       "3  2.90385  1.005245   0.118114  1.902386     1.934231     1.865262   \n",
       "4  0.25120  0.472522   0.036772  1.065591     1.072708     1.058693   \n",
       "\n",
       "   distErrKpc  logDistKpc  logDistKpcErr  \n",
       "0    0.010300    0.110976       0.003464  \n",
       "1    0.016297    0.064095       0.006102  \n",
       "2    0.011389    0.090907       0.004016  \n",
       "3    0.034484    0.279299       0.007884  \n",
       "4    0.007008    0.027590       0.002856  \n",
       "\n",
       "[5 rows x 40 columns]"
      ]
     },
     "execution_count": 4,
     "metadata": {},
     "output_type": "execute_result"
    }
   ],
   "source": [
    "data.head()"
   ]
  },
  {
   "cell_type": "code",
   "execution_count": 5,
   "metadata": {},
   "outputs": [
    {
     "data": {
      "text/plain": [
       "608"
      ]
     },
     "execution_count": 5,
     "metadata": {},
     "output_type": "execute_result"
    }
   ],
   "source": [
    "len(data)"
   ]
  },
  {
   "cell_type": "code",
   "execution_count": 6,
   "metadata": {},
   "outputs": [],
   "source": [
    "feats = ['LOGG', 'TEFF', 'ALPHA_M', 'M_H', 'C_FE', 'N_FE', \\\n",
    "           'G', 'BP', 'RP', 'J', 'H', 'K']\n",
    "\n",
    "featsErr = ['LOGG_ERR', 'TEFF_ERR', 'ALPHA_M_ERR', 'M_H_ERR', 'C_FE_ERR', 'N_FE_ERR', \\\n",
    "           'G_ERR', 'BP_ERR', 'RP_ERR', 'J_ERR', 'H_ERR', 'K_ERR']\n"
   ]
  },
  {
   "cell_type": "code",
   "execution_count": 7,
   "metadata": {},
   "outputs": [],
   "source": [
    "for i in range(len(feats)):\n",
    "    scaledFeat = (data[feats[i]] - mu_feats[i])/std_feats[i]\n",
    "    scaledEFeat = data[featsErr[i]]/std_feats[i]\n",
    "\n",
    "    data[feats[i]+'_NORM'] = scaledFeat\n",
    "    data[featsErr[i]+'_NORM'] = scaledEFeat"
   ]
  },
  {
   "cell_type": "code",
   "execution_count": 8,
   "metadata": {},
   "outputs": [
    {
     "data": {
      "text/html": [
       "<div>\n",
       "<style scoped>\n",
       "    .dataframe tbody tr th:only-of-type {\n",
       "        vertical-align: middle;\n",
       "    }\n",
       "\n",
       "    .dataframe tbody tr th {\n",
       "        vertical-align: top;\n",
       "    }\n",
       "\n",
       "    .dataframe thead th {\n",
       "        text-align: right;\n",
       "    }\n",
       "</style>\n",
       "<table border=\"1\" class=\"dataframe\">\n",
       "  <thead>\n",
       "    <tr style=\"text-align: right;\">\n",
       "      <th></th>\n",
       "      <th>Unnamed: 0</th>\n",
       "      <th>Unnamed: 0.1</th>\n",
       "      <th>APOGEE_ID_1</th>\n",
       "      <th>source_id</th>\n",
       "      <th>LOGG</th>\n",
       "      <th>TEFF</th>\n",
       "      <th>ALPHA_M</th>\n",
       "      <th>M_H</th>\n",
       "      <th>C_FE</th>\n",
       "      <th>N_FE</th>\n",
       "      <th>...</th>\n",
       "      <th>BP_NORM</th>\n",
       "      <th>BP_ERR_NORM</th>\n",
       "      <th>RP_NORM</th>\n",
       "      <th>RP_ERR_NORM</th>\n",
       "      <th>J_NORM</th>\n",
       "      <th>J_ERR_NORM</th>\n",
       "      <th>H_NORM</th>\n",
       "      <th>H_ERR_NORM</th>\n",
       "      <th>K_NORM</th>\n",
       "      <th>K_ERR_NORM</th>\n",
       "    </tr>\n",
       "  </thead>\n",
       "  <tbody>\n",
       "    <tr>\n",
       "      <th>0</th>\n",
       "      <td>1721</td>\n",
       "      <td>1910</td>\n",
       "      <td>2M18493114+4440466</td>\n",
       "      <td>2105414275836588544</td>\n",
       "      <td>2.484758</td>\n",
       "      <td>4916.8970</td>\n",
       "      <td>0.014891</td>\n",
       "      <td>-0.168967</td>\n",
       "      <td>-0.153072</td>\n",
       "      <td>0.304528</td>\n",
       "      <td>...</td>\n",
       "      <td>-0.990903</td>\n",
       "      <td>0.001779</td>\n",
       "      <td>-0.910916</td>\n",
       "      <td>0.000846</td>\n",
       "      <td>-0.859756</td>\n",
       "      <td>0.025264</td>\n",
       "      <td>-0.791949</td>\n",
       "      <td>0.023292</td>\n",
       "      <td>-0.794548</td>\n",
       "      <td>0.012817</td>\n",
       "    </tr>\n",
       "    <tr>\n",
       "      <th>1</th>\n",
       "      <td>2334</td>\n",
       "      <td>2564</td>\n",
       "      <td>2M19141724+4706053</td>\n",
       "      <td>2130805435296026880</td>\n",
       "      <td>3.141841</td>\n",
       "      <td>4836.6406</td>\n",
       "      <td>-0.013280</td>\n",
       "      <td>0.190422</td>\n",
       "      <td>-0.136165</td>\n",
       "      <td>0.277245</td>\n",
       "      <td>...</td>\n",
       "      <td>0.765663</td>\n",
       "      <td>0.001619</td>\n",
       "      <td>0.877330</td>\n",
       "      <td>0.000951</td>\n",
       "      <td>0.984503</td>\n",
       "      <td>0.024115</td>\n",
       "      <td>0.992249</td>\n",
       "      <td>0.022128</td>\n",
       "      <td>1.027756</td>\n",
       "      <td>0.012817</td>\n",
       "    </tr>\n",
       "    <tr>\n",
       "      <th>2</th>\n",
       "      <td>443</td>\n",
       "      <td>550</td>\n",
       "      <td>2M19375183+3949461</td>\n",
       "      <td>2076462107459336192</td>\n",
       "      <td>2.691003</td>\n",
       "      <td>5107.7954</td>\n",
       "      <td>-0.006319</td>\n",
       "      <td>-0.017812</td>\n",
       "      <td>-0.198534</td>\n",
       "      <td>0.457206</td>\n",
       "      <td>...</td>\n",
       "      <td>-1.362609</td>\n",
       "      <td>0.000832</td>\n",
       "      <td>-1.259081</td>\n",
       "      <td>0.000938</td>\n",
       "      <td>-1.126174</td>\n",
       "      <td>0.026412</td>\n",
       "      <td>-1.081939</td>\n",
       "      <td>0.032609</td>\n",
       "      <td>-1.049718</td>\n",
       "      <td>0.025633</td>\n",
       "    </tr>\n",
       "    <tr>\n",
       "      <th>3</th>\n",
       "      <td>2332</td>\n",
       "      <td>2562</td>\n",
       "      <td>2M19094793+4707291</td>\n",
       "      <td>2130479945494856064</td>\n",
       "      <td>2.607918</td>\n",
       "      <td>4599.9634</td>\n",
       "      <td>0.088488</td>\n",
       "      <td>0.011713</td>\n",
       "      <td>0.037761</td>\n",
       "      <td>0.240304</td>\n",
       "      <td>...</td>\n",
       "      <td>1.005992</td>\n",
       "      <td>0.001809</td>\n",
       "      <td>1.040637</td>\n",
       "      <td>0.000955</td>\n",
       "      <td>1.039624</td>\n",
       "      <td>0.024115</td>\n",
       "      <td>1.077266</td>\n",
       "      <td>0.019799</td>\n",
       "      <td>1.049894</td>\n",
       "      <td>0.016312</td>\n",
       "    </tr>\n",
       "    <tr>\n",
       "      <th>4</th>\n",
       "      <td>2882</td>\n",
       "      <td>3141</td>\n",
       "      <td>2M19395636+4945522</td>\n",
       "      <td>2135128886815572736</td>\n",
       "      <td>2.508830</td>\n",
       "      <td>4849.5620</td>\n",
       "      <td>-0.017498</td>\n",
       "      <td>0.050134</td>\n",
       "      <td>-0.182170</td>\n",
       "      <td>0.297120</td>\n",
       "      <td>...</td>\n",
       "      <td>-1.438139</td>\n",
       "      <td>0.001848</td>\n",
       "      <td>-1.407982</td>\n",
       "      <td>0.001378</td>\n",
       "      <td>-1.378812</td>\n",
       "      <td>0.024115</td>\n",
       "      <td>-1.377752</td>\n",
       "      <td>0.024457</td>\n",
       "      <td>-1.331686</td>\n",
       "      <td>0.018643</td>\n",
       "    </tr>\n",
       "  </tbody>\n",
       "</table>\n",
       "<p>5 rows × 64 columns</p>\n",
       "</div>"
      ],
      "text/plain": [
       "   Unnamed: 0  Unnamed: 0.1         APOGEE_ID_1            source_id  \\\n",
       "0        1721          1910  2M18493114+4440466  2105414275836588544   \n",
       "1        2334          2564  2M19141724+4706053  2130805435296026880   \n",
       "2         443           550  2M19375183+3949461  2076462107459336192   \n",
       "3        2332          2562  2M19094793+4707291  2130479945494856064   \n",
       "4        2882          3141  2M19395636+4945522  2135128886815572736   \n",
       "\n",
       "       LOGG       TEFF   ALPHA_M       M_H      C_FE      N_FE  ...   BP_NORM  \\\n",
       "0  2.484758  4916.8970  0.014891 -0.168967 -0.153072  0.304528  ... -0.990903   \n",
       "1  3.141841  4836.6406 -0.013280  0.190422 -0.136165  0.277245  ...  0.765663   \n",
       "2  2.691003  5107.7954 -0.006319 -0.017812 -0.198534  0.457206  ... -1.362609   \n",
       "3  2.607918  4599.9634  0.088488  0.011713  0.037761  0.240304  ...  1.005992   \n",
       "4  2.508830  4849.5620 -0.017498  0.050134 -0.182170  0.297120  ... -1.438139   \n",
       "\n",
       "   BP_ERR_NORM   RP_NORM  RP_ERR_NORM    J_NORM  J_ERR_NORM    H_NORM  \\\n",
       "0     0.001779 -0.910916     0.000846 -0.859756    0.025264 -0.791949   \n",
       "1     0.001619  0.877330     0.000951  0.984503    0.024115  0.992249   \n",
       "2     0.000832 -1.259081     0.000938 -1.126174    0.026412 -1.081939   \n",
       "3     0.001809  1.040637     0.000955  1.039624    0.024115  1.077266   \n",
       "4     0.001848 -1.407982     0.001378 -1.378812    0.024115 -1.377752   \n",
       "\n",
       "   H_ERR_NORM    K_NORM  K_ERR_NORM  \n",
       "0    0.023292 -0.794548    0.012817  \n",
       "1    0.022128  1.027756    0.012817  \n",
       "2    0.032609 -1.049718    0.025633  \n",
       "3    0.019799  1.049894    0.016312  \n",
       "4    0.024457 -1.331686    0.018643  \n",
       "\n",
       "[5 rows x 64 columns]"
      ]
     },
     "execution_count": 8,
     "metadata": {},
     "output_type": "execute_result"
    }
   ],
   "source": [
    "data.head()"
   ]
  },
  {
   "cell_type": "code",
   "execution_count": 9,
   "metadata": {},
   "outputs": [
    {
     "data": {
      "text/plain": [
       "(array([  8.,  95., 141., 110.,  56.,  56.,  68.,  41.,  31.,   2.]),\n",
       " array([2.2898684 , 2.39525746, 2.50064652, 2.60603558, 2.71142464,\n",
       "        2.8168137 , 2.92220276, 3.02759182, 3.13298088, 3.23836994,\n",
       "        3.343759  ]),\n",
       " <a list of 10 Patch objects>)"
      ]
     },
     "execution_count": 9,
     "metadata": {},
     "output_type": "execute_result"
    },
    {
     "data": {
      "image/png": "[encoded data removed]",
      "text/plain": [
       "<Figure size 432x288 with 1 Axes>"
      ]
     },
     "metadata": {
      "needs_background": "light"
     },
     "output_type": "display_data"
    }
   ],
   "source": [
    "import matplotlib.pyplot as plt\n",
    "\n",
    "plt.hist(data['LOGG'])"
   ]
  },
  {
   "cell_type": "code",
   "execution_count": 10,
   "metadata": {},
   "outputs": [
    {
     "data": {
      "text/plain": [
       "(array([  8.,  95., 141., 110.,  56.,  56.,  68.,  41.,  31.,   2.]),\n",
       " array([-1.90636523, -1.42470881, -0.94305239, -0.46139596,  0.02026046,\n",
       "         0.50191688,  0.98357331,  1.46522973,  1.94688615,  2.42854257,\n",
       "         2.910199  ]),\n",
       " <a list of 10 Patch objects>)"
      ]
     },
     "execution_count": 10,
     "metadata": {},
     "output_type": "execute_result"
    },
    {
     "data": {
      "image/png": "[encoded data removed]",
      "text/plain": [
       "<Figure size 432x288 with 1 Axes>"
      ]
     },
     "metadata": {
      "needs_background": "light"
     },
     "output_type": "display_data"
    }
   ],
   "source": [
    "plt.hist(data['LOGG_NORM'])"
   ]
  },
  {
   "cell_type": "code",
   "execution_count": 11,
   "metadata": {},
   "outputs": [
    {
     "data": {
      "text/plain": [
       "(array([  8.,  95., 141., 110.,  56.,  56.,  68.,  41.,  31.,   2.]),\n",
       " array([-1.90636523, -1.42470881, -0.94305239, -0.46139596,  0.02026046,\n",
       "         0.50191688,  0.98357331,  1.46522973,  1.94688615,  2.42854257,\n",
       "         2.910199  ]),\n",
       " <a list of 10 Patch objects>)"
      ]
     },
     "execution_count": 11,
     "metadata": {},
     "output_type": "execute_result"
    },
    {
     "data": {
      "image/png": "[encoded data removed]",
      "text/plain": [
       "<Figure size 432x288 with 1 Axes>"
      ]
     },
     "metadata": {
      "needs_background": "light"
     },
     "output_type": "display_data"
    }
   ],
   "source": [
    "plt.hist((data['LOGG'] - mu_feats[0])/std_feats[0])"
   ]
  },
  {
   "cell_type": "code",
   "execution_count": 12,
   "metadata": {},
   "outputs": [
    {
     "data": {
      "text/plain": [
       "(array([  6.,  34.,  76., 100., 113., 125.,  84.,  46.,  17.,   7.]),\n",
       " array([-2.39329801, -1.87025315, -1.34720828, -0.82416342, -0.30111856,\n",
       "         0.22192631,  0.74497117,  1.26801603,  1.7910609 ,  2.31410576,\n",
       "         2.83715062]),\n",
       " <a list of 10 Patch objects>)"
      ]
     },
     "execution_count": 12,
     "metadata": {},
     "output_type": "execute_result"
    },
    {
     "data": {
      "image/png": "[encoded data removed]",
      "text/plain": [
       "<Figure size 432x288 with 1 Axes>"
      ]
     },
     "metadata": {
      "needs_background": "light"
     },
     "output_type": "display_data"
    }
   ],
   "source": [
    "plt.hist((data['TEFF'] - mu_feats[1])/std_feats[1])"
   ]
  },
  {
   "cell_type": "code",
   "execution_count": 13,
   "metadata": {},
   "outputs": [
    {
     "data": {
      "text/plain": [
       "(array([  6.,  34.,  76., 100., 113., 125.,  84.,  46.,  17.,   7.]),\n",
       " array([-2.39329801, -1.87025315, -1.34720828, -0.82416342, -0.30111856,\n",
       "         0.22192631,  0.74497117,  1.26801603,  1.7910609 ,  2.31410576,\n",
       "         2.83715062]),\n",
       " <a list of 10 Patch objects>)"
      ]
     },
     "execution_count": 13,
     "metadata": {},
     "output_type": "execute_result"
    },
    {
     "data": {
      "image/png": "[encoded data removed]",
      "text/plain": [
       "<Figure size 432x288 with 1 Axes>"
      ]
     },
     "metadata": {
      "needs_background": "light"
     },
     "output_type": "display_data"
    }
   ],
   "source": [
    "plt.hist(data['TEFF_NORM'])"
   ]
  },
  {
   "cell_type": "code",
   "execution_count": 14,
   "metadata": {},
   "outputs": [],
   "source": [
    "data.to_csv('../test_data/TestOriginalNorm.csv')"
   ]
  },
  {
   "cell_type": "code",
   "execution_count": null,
   "metadata": {},
   "outputs": [],
   "source": []
  }
 ],
 "metadata": {
  "kernelspec": {
   "display_name": "Python 3",
   "language": "python",
   "name": "python3"
  },
  "language_info": {
   "codemirror_mode": {
    "name": "ipython",
    "version": 3
   },
   "file_extension": ".py",
   "mimetype": "text/x-python",
   "name": "python",
   "nbconvert_exporter": "python",
   "pygments_lexer": "ipython3",
   "version": "3.6.6"
  }
 },
 "nbformat": 4,
 "nbformat_minor": 2
}
