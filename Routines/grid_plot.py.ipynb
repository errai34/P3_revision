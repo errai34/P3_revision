{
 "cells": [
  {
   "cell_type": "markdown",
   "metadata": {},
   "source": [
    "# Getting inspiration from Ted Mackereth"
   ]
  },
  {
   "cell_type": "code",
   "execution_count": null,
   "metadata": {},
   "outputs": [],
   "source": [
    "fig, ax = plt.subplots(2,1,sharex=True)\n",
    "fig.set_size_inches(1.*columnwidth,1.2*columnwidth)\n",
    "\n",
    "norm = matplotlib.colors.Normalize(vmin=-0.5,vmax=0.4)\n",
    "s_m1 = matplotlib.cm.ScalarMappable(cmap=cm_rainbow, norm=norm)\n",
    "s_m1.set_array([]) \n",
    "xbins,ybins = np.linspace(0.,10.,30), np.linspace(-0.1,0.35,30)\n",
    "hist, xedges, yedges = np.histogram2d(dat['Age'], dat['AVG_ALPHAFE'], bins=[xbins,ybins])\n",
    "mhist, xedges, yedges = np.histogram2d(dat['Age'], dat['AVG_ALPHAFE'], bins=[xbins,ybins], weights=dat['FE_H'])\n",
    "colors = s_m1.to_rgba((np.rot90(mhist/hist)))\n",
    "colors[:,:,3] = np.rot90(hist/(0.3*np.max(hist)))\n",
    "ax[0].imshow(colors, extent=[0.,10.,-0.1,0.35], aspect='auto')\n",
    "#s1 = ax[0].scatter(dat['Age'], dat['AVG_ALPHAFE'], lw=0., s=2, c=dat['FE_H'], vmin=-0.5,vmax=0.4, cmap=cm_rainbow, rasterized=True)\n",
    "norm = matplotlib.colors.Normalize(vmin=-0.05,vmax=0.3)\n",
    "s_m2 = matplotlib.cm.ScalarMappable(cmap=cm_rainbow, norm=norm)\n",
    "s_m2.set_array([]) \n",
    "xbins,ybins = np.linspace(0.,10.,30), np.linspace(-0.5,0.5,30)\n",
    "hist, xedges, yedges = np.histogram2d(dat['Age'], dat['FE_H'], bins=[xbins,ybins])\n",
    "mhist, xedges, yedges = np.histogram2d(dat['Age'], dat['FE_H'], bins=[xbins,ybins], weights=dat['AVG_ALPHAFE'])\n",
    "colors = s_m2.to_rgba((np.rot90(mhist/hist)))\n",
    "colors[:,:,3] = np.rot90(hist/(0.3*np.max(hist)))\n",
    "ax[1].imshow(colors, extent=[0.,10.,-0.5,0.5], aspect='auto')\n",
    "#s2 = ax[1].scatter(dat['Age'], dat['FE_H'], lw=0., s=2, c=dat['AVG_ALPHAFE'], vmin=-0.05,vmax=0.3, cmap=cm_rainbow, rasterized=True)\n",
    "ax[1].set_xlim(0.,10.)\n",
    "ax[1].set_ylim(-0.5,0.5)\n",
    "ax[0].set_ylim(-0.1,0.35)\n",
    "ax[0].set_yticks([-0.1,0,0.1,0.2,0.3])\n",
    "ax[0].set_ylabel(r'$\\mathrm{[\\alpha/Fe]}$')\n",
    "ax[1].set_ylabel(r'$\\mathrm{[Fe/H]}$')\n",
    "ax[1].set_xlabel(r'$\\mathrm{age\\ [Gyr]}$')\n",
    "ax[1].set_xticks([0,2,4,6,8,10])\n",
    "plt.colorbar(s_m1, ax=ax[0], label=r'$\\mathrm{[Fe/H]}$')\n",
    "plt.colorbar(s_m2, ax=ax[1], label=r'$\\mathrm{[\\alpha/Fe]}$')\n",
    "\n",
    "fig.tight_layout()\n",
    "plt.savefig('../plots/GaiaAPOGEE_agefehafe.pdf', format='pdf')\n",
    "plt.savefig('../plots/GaiaAPOGEE_agefehafe.png', format='png', dpi=400)"
   ]
  }
 ],
 "metadata": {
  "kernelspec": {
   "display_name": "Python 3",
   "language": "python",
   "name": "python3"
  },
  "language_info": {
   "codemirror_mode": {
    "name": "ipython",
    "version": 3
   },
   "file_extension": ".py",
   "mimetype": "text/x-python",
   "name": "python",
   "nbconvert_exporter": "python",
   "pygments_lexer": "ipython3",
   "version": "3.6.6"
  }
 },
 "nbformat": 4,
 "nbformat_minor": 2
}
