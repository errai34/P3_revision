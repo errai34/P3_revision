{
 "cells": [
  {
   "cell_type": "code",
   "execution_count": 1,
   "metadata": {},
   "outputs": [],
   "source": [
    "%matplotlib inline\n",
    "\n",
    "import numpy as np\n",
    "import pandas as pd\n",
    "from astropy.table import Table\n",
    "import matplotlib.pyplot as plt"
   ]
  },
  {
   "cell_type": "code",
   "execution_count": 2,
   "metadata": {},
   "outputs": [
    {
     "data": {
      "text/plain": [
       "2331"
      ]
     },
     "execution_count": 2,
     "metadata": {},
     "output_type": "execute_result"
    }
   ],
   "source": [
    "data = pd.read_csv('../train_data/TrainingOriginal.csv')\n",
    "len(data)"
   ]
  },
  {
   "cell_type": "code",
   "execution_count": 5,
   "metadata": {},
   "outputs": [
    {
     "data": {
      "text/html": [
       "<div>\n",
       "<style scoped>\n",
       "    .dataframe tbody tr th:only-of-type {\n",
       "        vertical-align: middle;\n",
       "    }\n",
       "\n",
       "    .dataframe tbody tr th {\n",
       "        vertical-align: top;\n",
       "    }\n",
       "\n",
       "    .dataframe thead th {\n",
       "        text-align: right;\n",
       "    }\n",
       "</style>\n",
       "<table border=\"1\" class=\"dataframe\">\n",
       "  <thead>\n",
       "    <tr style=\"text-align: right;\">\n",
       "      <th></th>\n",
       "      <th>Unnamed: 0</th>\n",
       "      <th>APOGEE_ID</th>\n",
       "      <th>source_id</th>\n",
       "      <th>LOGG</th>\n",
       "      <th>TEFF</th>\n",
       "      <th>ALPHA_M</th>\n",
       "      <th>M_H</th>\n",
       "      <th>C_FE</th>\n",
       "      <th>N_FE</th>\n",
       "      <th>G</th>\n",
       "      <th>...</th>\n",
       "      <th>age_68l</th>\n",
       "      <th>ageErr</th>\n",
       "      <th>logAge</th>\n",
       "      <th>logAgeErr</th>\n",
       "      <th>distKpc</th>\n",
       "      <th>distKpc_68u</th>\n",
       "      <th>distKpc_68l</th>\n",
       "      <th>distErrKpc</th>\n",
       "      <th>logDistKpc</th>\n",
       "      <th>logDistKpcErr</th>\n",
       "    </tr>\n",
       "  </thead>\n",
       "  <tbody>\n",
       "    <tr>\n",
       "      <th>0</th>\n",
       "      <td>1867</td>\n",
       "      <td>2M19371027+3833366</td>\n",
       "      <td>2052170902004055424</td>\n",
       "      <td>2.595899</td>\n",
       "      <td>4859.090820</td>\n",
       "      <td>-0.022834</td>\n",
       "      <td>0.171807</td>\n",
       "      <td>-0.167251</td>\n",
       "      <td>0.412339</td>\n",
       "      <td>11.764113</td>\n",
       "      <td>...</td>\n",
       "      <td>1.4760</td>\n",
       "      <td>0.10120</td>\n",
       "      <td>0.209676</td>\n",
       "      <td>0.027905</td>\n",
       "      <td>1.502098</td>\n",
       "      <td>1.515262</td>\n",
       "      <td>1.490219</td>\n",
       "      <td>0.012522</td>\n",
       "      <td>0.176698</td>\n",
       "      <td>0.003619</td>\n",
       "    </tr>\n",
       "    <tr>\n",
       "      <th>1</th>\n",
       "      <td>2163</td>\n",
       "      <td>2M19424586+4744370</td>\n",
       "      <td>2080647604626475776</td>\n",
       "      <td>2.966436</td>\n",
       "      <td>4704.287109</td>\n",
       "      <td>-0.002465</td>\n",
       "      <td>0.367972</td>\n",
       "      <td>-0.028808</td>\n",
       "      <td>0.403981</td>\n",
       "      <td>12.895377</td>\n",
       "      <td>...</td>\n",
       "      <td>7.3282</td>\n",
       "      <td>2.14160</td>\n",
       "      <td>0.965789</td>\n",
       "      <td>0.099944</td>\n",
       "      <td>1.364082</td>\n",
       "      <td>1.385117</td>\n",
       "      <td>1.343136</td>\n",
       "      <td>0.020990</td>\n",
       "      <td>0.134841</td>\n",
       "      <td>0.006683</td>\n",
       "    </tr>\n",
       "    <tr>\n",
       "      <th>2</th>\n",
       "      <td>2535</td>\n",
       "      <td>2M19492609+4352210</td>\n",
       "      <td>2078861001311174272</td>\n",
       "      <td>2.585862</td>\n",
       "      <td>4988.357422</td>\n",
       "      <td>0.010741</td>\n",
       "      <td>-0.025190</td>\n",
       "      <td>-0.238046</td>\n",
       "      <td>0.409674</td>\n",
       "      <td>11.281590</td>\n",
       "      <td>...</td>\n",
       "      <td>1.1537</td>\n",
       "      <td>0.05965</td>\n",
       "      <td>0.088915</td>\n",
       "      <td>0.021368</td>\n",
       "      <td>1.222420</td>\n",
       "      <td>1.232599</td>\n",
       "      <td>1.211992</td>\n",
       "      <td>0.010303</td>\n",
       "      <td>0.087221</td>\n",
       "      <td>0.003661</td>\n",
       "    </tr>\n",
       "    <tr>\n",
       "      <th>3</th>\n",
       "      <td>897</td>\n",
       "      <td>2M19155325+4749366</td>\n",
       "      <td>2130919470971121536</td>\n",
       "      <td>2.770921</td>\n",
       "      <td>4813.821289</td>\n",
       "      <td>0.026832</td>\n",
       "      <td>-0.273174</td>\n",
       "      <td>-0.107823</td>\n",
       "      <td>0.244127</td>\n",
       "      <td>12.181296</td>\n",
       "      <td>...</td>\n",
       "      <td>5.0165</td>\n",
       "      <td>1.60350</td>\n",
       "      <td>0.813154</td>\n",
       "      <td>0.107328</td>\n",
       "      <td>1.437957</td>\n",
       "      <td>1.461475</td>\n",
       "      <td>1.414165</td>\n",
       "      <td>0.023655</td>\n",
       "      <td>0.157746</td>\n",
       "      <td>0.007146</td>\n",
       "    </tr>\n",
       "    <tr>\n",
       "      <th>4</th>\n",
       "      <td>1259</td>\n",
       "      <td>2M19241817+4858463</td>\n",
       "      <td>2129549685640392192</td>\n",
       "      <td>2.577012</td>\n",
       "      <td>4542.238281</td>\n",
       "      <td>0.003721</td>\n",
       "      <td>0.217383</td>\n",
       "      <td>0.029497</td>\n",
       "      <td>0.337136</td>\n",
       "      <td>12.607643</td>\n",
       "      <td>...</td>\n",
       "      <td>7.5336</td>\n",
       "      <td>3.37555</td>\n",
       "      <td>1.023322</td>\n",
       "      <td>0.138934</td>\n",
       "      <td>1.751155</td>\n",
       "      <td>1.791000</td>\n",
       "      <td>1.715931</td>\n",
       "      <td>0.037534</td>\n",
       "      <td>0.243324</td>\n",
       "      <td>0.009298</td>\n",
       "    </tr>\n",
       "  </tbody>\n",
       "</table>\n",
       "<p>5 rows × 39 columns</p>\n",
       "</div>"
      ],
      "text/plain": [
       "   Unnamed: 0           APOGEE_ID            source_id      LOGG         TEFF  \\\n",
       "0        1867  2M19371027+3833366  2052170902004055424  2.595899  4859.090820   \n",
       "1        2163  2M19424586+4744370  2080647604626475776  2.966436  4704.287109   \n",
       "2        2535  2M19492609+4352210  2078861001311174272  2.585862  4988.357422   \n",
       "3         897  2M19155325+4749366  2130919470971121536  2.770921  4813.821289   \n",
       "4        1259  2M19241817+4858463  2129549685640392192  2.577012  4542.238281   \n",
       "\n",
       "    ALPHA_M       M_H      C_FE      N_FE          G  ...  age_68l   ageErr  \\\n",
       "0 -0.022834  0.171807 -0.167251  0.412339  11.764113  ...   1.4760  0.10120   \n",
       "1 -0.002465  0.367972 -0.028808  0.403981  12.895377  ...   7.3282  2.14160   \n",
       "2  0.010741 -0.025190 -0.238046  0.409674  11.281590  ...   1.1537  0.05965   \n",
       "3  0.026832 -0.273174 -0.107823  0.244127  12.181296  ...   5.0165  1.60350   \n",
       "4  0.003721  0.217383  0.029497  0.337136  12.607643  ...   7.5336  3.37555   \n",
       "\n",
       "     logAge  logAgeErr   distKpc  distKpc_68u  distKpc_68l  distErrKpc  \\\n",
       "0  0.209676   0.027905  1.502098     1.515262     1.490219    0.012522   \n",
       "1  0.965789   0.099944  1.364082     1.385117     1.343136    0.020990   \n",
       "2  0.088915   0.021368  1.222420     1.232599     1.211992    0.010303   \n",
       "3  0.813154   0.107328  1.437957     1.461475     1.414165    0.023655   \n",
       "4  1.023322   0.138934  1.751155     1.791000     1.715931    0.037534   \n",
       "\n",
       "   logDistKpc  logDistKpcErr  \n",
       "0    0.176698       0.003619  \n",
       "1    0.134841       0.006683  \n",
       "2    0.087221       0.003661  \n",
       "3    0.157746       0.007146  \n",
       "4    0.243324       0.009298  \n",
       "\n",
       "[5 rows x 39 columns]"
      ]
     },
     "execution_count": 5,
     "metadata": {},
     "output_type": "execute_result"
    }
   ],
   "source": [
    "data.head()"
   ]
  },
  {
   "cell_type": "code",
   "execution_count": 3,
   "metadata": {},
   "outputs": [],
   "source": [
    "feats = ['LOGG', 'TEFF', 'ALPHA_M', 'M_H', 'C_FE', 'N_FE', \\\n",
    "           'G', 'BP', 'RP', 'J', 'H', 'K']\n",
    "\n",
    "featsErr = ['LOGG_ERR', 'TEFF_ERR', 'ALPHA_M_ERR', 'M_H_ERR', 'C_FE_ERR', 'N_FE_ERR', \\\n",
    "           'G_ERR', 'BP_ERR', 'RP_ERR', 'J_ERR', 'H_ERR', 'K_ERR']\n",
    "\n",
    "def norm(feat, eFeat):\n",
    "    \n",
    "    mu  = np.mean(feat)\n",
    "    std = np.std(feat)\n",
    "    \n",
    "    scaledFeat  = (feat-mu)/std\n",
    "    scaledEFeat = eFeat/std\n",
    "\n",
    "    return(scaledFeat,scaledEFeat)"
   ]
  },
  {
   "cell_type": "code",
   "execution_count": 4,
   "metadata": {},
   "outputs": [],
   "source": [
    "for i in range(len(feats)):\n",
    "    scaledFeat, scaledEFeat = norm(data[feats[i]], data[featsErr[i]])\n",
    "    data[feats[i]+'_NORM'] = scaledFeat\n",
    "    data[featsErr[i]+'_NORM'] = scaledEFeat"
   ]
  },
  {
   "cell_type": "code",
   "execution_count": 8,
   "metadata": {},
   "outputs": [
    {
     "data": {
      "text/html": [
       "<div>\n",
       "<style scoped>\n",
       "    .dataframe tbody tr th:only-of-type {\n",
       "        vertical-align: middle;\n",
       "    }\n",
       "\n",
       "    .dataframe tbody tr th {\n",
       "        vertical-align: top;\n",
       "    }\n",
       "\n",
       "    .dataframe thead th {\n",
       "        text-align: right;\n",
       "    }\n",
       "</style>\n",
       "<table border=\"1\" class=\"dataframe\">\n",
       "  <thead>\n",
       "    <tr style=\"text-align: right;\">\n",
       "      <th></th>\n",
       "      <th>Unnamed: 0</th>\n",
       "      <th>APOGEE_ID</th>\n",
       "      <th>source_id</th>\n",
       "      <th>LOGG</th>\n",
       "      <th>TEFF</th>\n",
       "      <th>ALPHA_M</th>\n",
       "      <th>M_H</th>\n",
       "      <th>C_FE</th>\n",
       "      <th>N_FE</th>\n",
       "      <th>G</th>\n",
       "      <th>...</th>\n",
       "      <th>BP_NORM</th>\n",
       "      <th>BP_ERR_NORM</th>\n",
       "      <th>RP_NORM</th>\n",
       "      <th>RP_ERR_NORM</th>\n",
       "      <th>J_NORM</th>\n",
       "      <th>J_ERR_NORM</th>\n",
       "      <th>H_NORM</th>\n",
       "      <th>H_ERR_NORM</th>\n",
       "      <th>K_NORM</th>\n",
       "      <th>K_ERR_NORM</th>\n",
       "    </tr>\n",
       "  </thead>\n",
       "  <tbody>\n",
       "    <tr>\n",
       "      <th>0</th>\n",
       "      <td>1867</td>\n",
       "      <td>2M19371027+3833366</td>\n",
       "      <td>2052170902004055424</td>\n",
       "      <td>2.595899</td>\n",
       "      <td>4859.090820</td>\n",
       "      <td>-0.022834</td>\n",
       "      <td>0.171807</td>\n",
       "      <td>-0.167251</td>\n",
       "      <td>0.412339</td>\n",
       "      <td>11.764113</td>\n",
       "      <td>...</td>\n",
       "      <td>-0.263340</td>\n",
       "      <td>0.001094</td>\n",
       "      <td>-0.310991</td>\n",
       "      <td>0.000770</td>\n",
       "      <td>-0.355279</td>\n",
       "      <td>0.021113</td>\n",
       "      <td>-0.309932</td>\n",
       "      <td>0.017915</td>\n",
       "      <td>-0.294859</td>\n",
       "      <td>0.020098</td>\n",
       "    </tr>\n",
       "    <tr>\n",
       "      <th>1</th>\n",
       "      <td>2163</td>\n",
       "      <td>2M19424586+4744370</td>\n",
       "      <td>2080647604626475776</td>\n",
       "      <td>2.966436</td>\n",
       "      <td>4704.287109</td>\n",
       "      <td>-0.002465</td>\n",
       "      <td>0.367972</td>\n",
       "      <td>-0.028808</td>\n",
       "      <td>0.403981</td>\n",
       "      <td>12.895377</td>\n",
       "      <td>...</td>\n",
       "      <td>0.640996</td>\n",
       "      <td>0.001216</td>\n",
       "      <td>0.623825</td>\n",
       "      <td>0.000475</td>\n",
       "      <td>0.998149</td>\n",
       "      <td>0.021113</td>\n",
       "      <td>1.004603</td>\n",
       "      <td>0.020155</td>\n",
       "      <td>0.995901</td>\n",
       "      <td>0.015632</td>\n",
       "    </tr>\n",
       "    <tr>\n",
       "      <th>2</th>\n",
       "      <td>2535</td>\n",
       "      <td>2M19492609+4352210</td>\n",
       "      <td>2078861001311174272</td>\n",
       "      <td>2.585862</td>\n",
       "      <td>4988.357422</td>\n",
       "      <td>0.010741</td>\n",
       "      <td>-0.025190</td>\n",
       "      <td>-0.238046</td>\n",
       "      <td>0.409674</td>\n",
       "      <td>11.281590</td>\n",
       "      <td>...</td>\n",
       "      <td>-0.695490</td>\n",
       "      <td>0.001005</td>\n",
       "      <td>-0.668650</td>\n",
       "      <td>0.000620</td>\n",
       "      <td>-0.734194</td>\n",
       "      <td>0.023335</td>\n",
       "      <td>-0.677196</td>\n",
       "      <td>0.020155</td>\n",
       "      <td>-0.645463</td>\n",
       "      <td>0.015632</td>\n",
       "    </tr>\n",
       "    <tr>\n",
       "      <th>3</th>\n",
       "      <td>897</td>\n",
       "      <td>2M19155325+4749366</td>\n",
       "      <td>2130919470971121536</td>\n",
       "      <td>2.770921</td>\n",
       "      <td>4813.821289</td>\n",
       "      <td>0.026832</td>\n",
       "      <td>-0.273174</td>\n",
       "      <td>-0.107823</td>\n",
       "      <td>0.244127</td>\n",
       "      <td>12.181296</td>\n",
       "      <td>...</td>\n",
       "      <td>-0.004689</td>\n",
       "      <td>0.001493</td>\n",
       "      <td>0.093222</td>\n",
       "      <td>0.000727</td>\n",
       "      <td>0.372549</td>\n",
       "      <td>0.023335</td>\n",
       "      <td>0.436912</td>\n",
       "      <td>0.019035</td>\n",
       "      <td>0.469995</td>\n",
       "      <td>0.015632</td>\n",
       "    </tr>\n",
       "    <tr>\n",
       "      <th>4</th>\n",
       "      <td>1259</td>\n",
       "      <td>2M19241817+4858463</td>\n",
       "      <td>2129549685640392192</td>\n",
       "      <td>2.577012</td>\n",
       "      <td>4542.238281</td>\n",
       "      <td>0.003721</td>\n",
       "      <td>0.217383</td>\n",
       "      <td>0.029497</td>\n",
       "      <td>0.337136</td>\n",
       "      <td>12.607643</td>\n",
       "      <td>...</td>\n",
       "      <td>0.434309</td>\n",
       "      <td>0.001130</td>\n",
       "      <td>0.372662</td>\n",
       "      <td>0.000719</td>\n",
       "      <td>0.594787</td>\n",
       "      <td>0.026669</td>\n",
       "      <td>0.558961</td>\n",
       "      <td>0.031352</td>\n",
       "      <td>0.530290</td>\n",
       "      <td>0.024565</td>\n",
       "    </tr>\n",
       "  </tbody>\n",
       "</table>\n",
       "<p>5 rows × 63 columns</p>\n",
       "</div>"
      ],
      "text/plain": [
       "   Unnamed: 0           APOGEE_ID            source_id      LOGG         TEFF  \\\n",
       "0        1867  2M19371027+3833366  2052170902004055424  2.595899  4859.090820   \n",
       "1        2163  2M19424586+4744370  2080647604626475776  2.966436  4704.287109   \n",
       "2        2535  2M19492609+4352210  2078861001311174272  2.585862  4988.357422   \n",
       "3         897  2M19155325+4749366  2130919470971121536  2.770921  4813.821289   \n",
       "4        1259  2M19241817+4858463  2129549685640392192  2.577012  4542.238281   \n",
       "\n",
       "    ALPHA_M       M_H      C_FE      N_FE          G  ...   BP_NORM  \\\n",
       "0 -0.022834  0.171807 -0.167251  0.412339  11.764113  ... -0.263340   \n",
       "1 -0.002465  0.367972 -0.028808  0.403981  12.895377  ...  0.640996   \n",
       "2  0.010741 -0.025190 -0.238046  0.409674  11.281590  ... -0.695490   \n",
       "3  0.026832 -0.273174 -0.107823  0.244127  12.181296  ... -0.004689   \n",
       "4  0.003721  0.217383  0.029497  0.337136  12.607643  ...  0.434309   \n",
       "\n",
       "   BP_ERR_NORM   RP_NORM  RP_ERR_NORM    J_NORM  J_ERR_NORM    H_NORM  \\\n",
       "0     0.001094 -0.310991     0.000770 -0.355279    0.021113 -0.309932   \n",
       "1     0.001216  0.623825     0.000475  0.998149    0.021113  1.004603   \n",
       "2     0.001005 -0.668650     0.000620 -0.734194    0.023335 -0.677196   \n",
       "3     0.001493  0.093222     0.000727  0.372549    0.023335  0.436912   \n",
       "4     0.001130  0.372662     0.000719  0.594787    0.026669  0.558961   \n",
       "\n",
       "   H_ERR_NORM    K_NORM  K_ERR_NORM  \n",
       "0    0.017915 -0.294859    0.020098  \n",
       "1    0.020155  0.995901    0.015632  \n",
       "2    0.020155 -0.645463    0.015632  \n",
       "3    0.019035  0.469995    0.015632  \n",
       "4    0.031352  0.530290    0.024565  \n",
       "\n",
       "[5 rows x 63 columns]"
      ]
     },
     "execution_count": 8,
     "metadata": {},
     "output_type": "execute_result"
    }
   ],
   "source": [
    "data.head()"
   ]
  },
  {
   "cell_type": "code",
   "execution_count": 5,
   "metadata": {},
   "outputs": [],
   "source": [
    "N = len(feats)\n",
    "mu_feats = np.ones(N)\n",
    "std_feats = np.ones(N)\n",
    "\n",
    "for i in range(len(feats)):\n",
    "    mu_feats[i] = np.mean(data[feats[i]])\n",
    "    std_feats[i] = np.std(data[feats[i]])"
   ]
  },
  {
   "cell_type": "code",
   "execution_count": 6,
   "metadata": {},
   "outputs": [],
   "source": [
    "np.save('../train_data/AllGlobal_Mu_Final.npy', mu_feats)\n",
    "np.save('../train_data/AllGlobal_Std_Final.npy', std_feats)"
   ]
  },
  {
   "cell_type": "code",
   "execution_count": 7,
   "metadata": {},
   "outputs": [
    {
     "data": {
      "text/plain": [
       "2.6572129494230516"
      ]
     },
     "execution_count": 7,
     "metadata": {},
     "output_type": "execute_result"
    }
   ],
   "source": [
    "mu_feats[0]"
   ]
  },
  {
   "cell_type": "code",
   "execution_count": 8,
   "metadata": {},
   "outputs": [
    {
     "data": {
      "text/plain": [
       "2.6572129494230516"
      ]
     },
     "execution_count": 8,
     "metadata": {},
     "output_type": "execute_result"
    }
   ],
   "source": [
    "np.mean(data['LOGG'])"
   ]
  },
  {
   "cell_type": "code",
   "execution_count": 9,
   "metadata": {},
   "outputs": [],
   "source": [
    "data.to_csv('../train_data/AllTrainedNorm.csv')"
   ]
  },
  {
   "cell_type": "code",
   "execution_count": 10,
   "metadata": {},
   "outputs": [
    {
     "data": {
      "text/html": [
       "<div>\n",
       "<style scoped>\n",
       "    .dataframe tbody tr th:only-of-type {\n",
       "        vertical-align: middle;\n",
       "    }\n",
       "\n",
       "    .dataframe tbody tr th {\n",
       "        vertical-align: top;\n",
       "    }\n",
       "\n",
       "    .dataframe thead th {\n",
       "        text-align: right;\n",
       "    }\n",
       "</style>\n",
       "<table border=\"1\" class=\"dataframe\">\n",
       "  <thead>\n",
       "    <tr style=\"text-align: right;\">\n",
       "      <th></th>\n",
       "      <th>Unnamed: 0</th>\n",
       "      <th>APOGEE_ID</th>\n",
       "      <th>source_id</th>\n",
       "      <th>LOGG</th>\n",
       "      <th>TEFF</th>\n",
       "      <th>ALPHA_M</th>\n",
       "      <th>M_H</th>\n",
       "      <th>C_FE</th>\n",
       "      <th>N_FE</th>\n",
       "      <th>G</th>\n",
       "      <th>...</th>\n",
       "      <th>BP_NORM</th>\n",
       "      <th>BP_ERR_NORM</th>\n",
       "      <th>RP_NORM</th>\n",
       "      <th>RP_ERR_NORM</th>\n",
       "      <th>J_NORM</th>\n",
       "      <th>J_ERR_NORM</th>\n",
       "      <th>H_NORM</th>\n",
       "      <th>H_ERR_NORM</th>\n",
       "      <th>K_NORM</th>\n",
       "      <th>K_ERR_NORM</th>\n",
       "    </tr>\n",
       "  </thead>\n",
       "  <tbody>\n",
       "    <tr>\n",
       "      <th>0</th>\n",
       "      <td>1867</td>\n",
       "      <td>2M19371027+3833366</td>\n",
       "      <td>2052170902004055424</td>\n",
       "      <td>2.595899</td>\n",
       "      <td>4859.090820</td>\n",
       "      <td>-0.022834</td>\n",
       "      <td>0.171807</td>\n",
       "      <td>-0.167251</td>\n",
       "      <td>0.412339</td>\n",
       "      <td>11.764113</td>\n",
       "      <td>...</td>\n",
       "      <td>-0.263340</td>\n",
       "      <td>0.001094</td>\n",
       "      <td>-0.310991</td>\n",
       "      <td>0.000770</td>\n",
       "      <td>-0.355279</td>\n",
       "      <td>0.021113</td>\n",
       "      <td>-0.309932</td>\n",
       "      <td>0.017915</td>\n",
       "      <td>-0.294859</td>\n",
       "      <td>0.020098</td>\n",
       "    </tr>\n",
       "    <tr>\n",
       "      <th>1</th>\n",
       "      <td>2163</td>\n",
       "      <td>2M19424586+4744370</td>\n",
       "      <td>2080647604626475776</td>\n",
       "      <td>2.966436</td>\n",
       "      <td>4704.287109</td>\n",
       "      <td>-0.002465</td>\n",
       "      <td>0.367972</td>\n",
       "      <td>-0.028808</td>\n",
       "      <td>0.403981</td>\n",
       "      <td>12.895377</td>\n",
       "      <td>...</td>\n",
       "      <td>0.640996</td>\n",
       "      <td>0.001216</td>\n",
       "      <td>0.623825</td>\n",
       "      <td>0.000475</td>\n",
       "      <td>0.998149</td>\n",
       "      <td>0.021113</td>\n",
       "      <td>1.004603</td>\n",
       "      <td>0.020155</td>\n",
       "      <td>0.995901</td>\n",
       "      <td>0.015632</td>\n",
       "    </tr>\n",
       "    <tr>\n",
       "      <th>2</th>\n",
       "      <td>2535</td>\n",
       "      <td>2M19492609+4352210</td>\n",
       "      <td>2078861001311174272</td>\n",
       "      <td>2.585862</td>\n",
       "      <td>4988.357422</td>\n",
       "      <td>0.010741</td>\n",
       "      <td>-0.025190</td>\n",
       "      <td>-0.238046</td>\n",
       "      <td>0.409674</td>\n",
       "      <td>11.281590</td>\n",
       "      <td>...</td>\n",
       "      <td>-0.695490</td>\n",
       "      <td>0.001005</td>\n",
       "      <td>-0.668650</td>\n",
       "      <td>0.000620</td>\n",
       "      <td>-0.734194</td>\n",
       "      <td>0.023335</td>\n",
       "      <td>-0.677196</td>\n",
       "      <td>0.020155</td>\n",
       "      <td>-0.645463</td>\n",
       "      <td>0.015632</td>\n",
       "    </tr>\n",
       "    <tr>\n",
       "      <th>3</th>\n",
       "      <td>897</td>\n",
       "      <td>2M19155325+4749366</td>\n",
       "      <td>2130919470971121536</td>\n",
       "      <td>2.770921</td>\n",
       "      <td>4813.821289</td>\n",
       "      <td>0.026832</td>\n",
       "      <td>-0.273174</td>\n",
       "      <td>-0.107823</td>\n",
       "      <td>0.244127</td>\n",
       "      <td>12.181296</td>\n",
       "      <td>...</td>\n",
       "      <td>-0.004689</td>\n",
       "      <td>0.001493</td>\n",
       "      <td>0.093222</td>\n",
       "      <td>0.000727</td>\n",
       "      <td>0.372549</td>\n",
       "      <td>0.023335</td>\n",
       "      <td>0.436912</td>\n",
       "      <td>0.019035</td>\n",
       "      <td>0.469995</td>\n",
       "      <td>0.015632</td>\n",
       "    </tr>\n",
       "    <tr>\n",
       "      <th>4</th>\n",
       "      <td>1259</td>\n",
       "      <td>2M19241817+4858463</td>\n",
       "      <td>2129549685640392192</td>\n",
       "      <td>2.577012</td>\n",
       "      <td>4542.238281</td>\n",
       "      <td>0.003721</td>\n",
       "      <td>0.217383</td>\n",
       "      <td>0.029497</td>\n",
       "      <td>0.337136</td>\n",
       "      <td>12.607643</td>\n",
       "      <td>...</td>\n",
       "      <td>0.434309</td>\n",
       "      <td>0.001130</td>\n",
       "      <td>0.372662</td>\n",
       "      <td>0.000719</td>\n",
       "      <td>0.594787</td>\n",
       "      <td>0.026669</td>\n",
       "      <td>0.558961</td>\n",
       "      <td>0.031352</td>\n",
       "      <td>0.530290</td>\n",
       "      <td>0.024565</td>\n",
       "    </tr>\n",
       "  </tbody>\n",
       "</table>\n",
       "<p>5 rows × 63 columns</p>\n",
       "</div>"
      ],
      "text/plain": [
       "   Unnamed: 0           APOGEE_ID            source_id      LOGG         TEFF  \\\n",
       "0        1867  2M19371027+3833366  2052170902004055424  2.595899  4859.090820   \n",
       "1        2163  2M19424586+4744370  2080647604626475776  2.966436  4704.287109   \n",
       "2        2535  2M19492609+4352210  2078861001311174272  2.585862  4988.357422   \n",
       "3         897  2M19155325+4749366  2130919470971121536  2.770921  4813.821289   \n",
       "4        1259  2M19241817+4858463  2129549685640392192  2.577012  4542.238281   \n",
       "\n",
       "    ALPHA_M       M_H      C_FE      N_FE          G  ...   BP_NORM  \\\n",
       "0 -0.022834  0.171807 -0.167251  0.412339  11.764113  ... -0.263340   \n",
       "1 -0.002465  0.367972 -0.028808  0.403981  12.895377  ...  0.640996   \n",
       "2  0.010741 -0.025190 -0.238046  0.409674  11.281590  ... -0.695490   \n",
       "3  0.026832 -0.273174 -0.107823  0.244127  12.181296  ... -0.004689   \n",
       "4  0.003721  0.217383  0.029497  0.337136  12.607643  ...  0.434309   \n",
       "\n",
       "   BP_ERR_NORM   RP_NORM  RP_ERR_NORM    J_NORM  J_ERR_NORM    H_NORM  \\\n",
       "0     0.001094 -0.310991     0.000770 -0.355279    0.021113 -0.309932   \n",
       "1     0.001216  0.623825     0.000475  0.998149    0.021113  1.004603   \n",
       "2     0.001005 -0.668650     0.000620 -0.734194    0.023335 -0.677196   \n",
       "3     0.001493  0.093222     0.000727  0.372549    0.023335  0.436912   \n",
       "4     0.001130  0.372662     0.000719  0.594787    0.026669  0.558961   \n",
       "\n",
       "   H_ERR_NORM    K_NORM  K_ERR_NORM  \n",
       "0    0.017915 -0.294859    0.020098  \n",
       "1    0.020155  0.995901    0.015632  \n",
       "2    0.020155 -0.645463    0.015632  \n",
       "3    0.019035  0.469995    0.015632  \n",
       "4    0.031352  0.530290    0.024565  \n",
       "\n",
       "[5 rows x 63 columns]"
      ]
     },
     "execution_count": 10,
     "metadata": {},
     "output_type": "execute_result"
    }
   ],
   "source": [
    "data.head()"
   ]
  },
  {
   "cell_type": "code",
   "execution_count": 11,
   "metadata": {},
   "outputs": [
    {
     "data": {
      "text/plain": [
       "(array([  81.,  328.,  777., 1035.,   42.,    7.,   13.,   22.,   17.,\n",
       "           9.]),\n",
       " array([ 8.85073185,  9.97470121, 11.09867058, 12.22263994, 13.34660931,\n",
       "        14.47057867, 15.59454803, 16.7185174 , 17.84248676, 18.96645613,\n",
       "        20.09042549]),\n",
       " <a list of 10 Patch objects>)"
      ]
     },
     "execution_count": 11,
     "metadata": {},
     "output_type": "execute_result"
    },
    {
     "data": {
      "image/png": "[encoded data removed]",
      "text/plain": [
       "<Figure size 432x288 with 1 Axes>"
      ]
     },
     "metadata": {
      "needs_background": "light"
     },
     "output_type": "display_data"
    }
   ],
   "source": [
    "plt.hist(data['G'])"
   ]
  },
  {
   "cell_type": "code",
   "execution_count": 12,
   "metadata": {},
   "outputs": [
    {
     "data": {
      "text/plain": [
       "(array([  81.,  328.,  777., 1035.,   42.,    7.,   13.,   22.,   17.,\n",
       "           9.]),\n",
       " array([-2.49351283, -1.6417387 , -0.78996456,  0.06180958,  0.91358372,\n",
       "         1.76535785,  2.61713199,  3.46890613,  4.32068027,  5.1724544 ,\n",
       "         6.02422854]),\n",
       " <a list of 10 Patch objects>)"
      ]
     },
     "execution_count": 12,
     "metadata": {},
     "output_type": "execute_result"
    },
    {
     "data": {
      "image/png": "[encoded data removed]",
      "text/plain": [
       "<Figure size 432x288 with 1 Axes>"
      ]
     },
     "metadata": {
      "needs_background": "light"
     },
     "output_type": "display_data"
    }
   ],
   "source": [
    "plt.hist((data['G']-np.mean(data['G']))/np.std(data['G']))"
   ]
  },
  {
   "cell_type": "code",
   "execution_count": 13,
   "metadata": {},
   "outputs": [
    {
     "data": {
      "text/plain": [
       "(array([  81.,  328.,  777., 1035.,   42.,    7.,   13.,   22.,   17.,\n",
       "           9.]),\n",
       " array([-2.49351283, -1.6417387 , -0.78996456,  0.06180958,  0.91358372,\n",
       "         1.76535785,  2.61713199,  3.46890613,  4.32068027,  5.1724544 ,\n",
       "         6.02422854]),\n",
       " <a list of 10 Patch objects>)"
      ]
     },
     "execution_count": 13,
     "metadata": {},
     "output_type": "execute_result"
    },
    {
     "data": {
      "image/png": "[encoded data removed]",
      "text/plain": [
       "<Figure size 432x288 with 1 Axes>"
      ]
     },
     "metadata": {
      "needs_background": "light"
     },
     "output_type": "display_data"
    }
   ],
   "source": [
    "plt.hist(data['G_NORM'])"
   ]
  },
  {
   "cell_type": "code",
   "execution_count": 18,
   "metadata": {},
   "outputs": [
    {
     "data": {
      "text/plain": [
       "Index(['Unnamed: 0', 'APOGEE_ID', 'source_id', 'LOGG', 'TEFF', 'ALPHA_M',\n",
       "       'M_H', 'C_FE', 'N_FE', 'G', 'BP', 'RP', 'J', 'H', 'K', 'LOGG_ERR',\n",
       "       'TEFF_ERR', 'ALPHA_M_ERR', 'M_H_ERR', 'C_FE_ERR', 'N_FE_ERR', 'G_ERR',\n",
       "       'BP_ERR', 'RP_ERR', 'J_ERR', 'H_ERR', 'K_ERR', 'age', 'age_68u',\n",
       "       'age_68l', 'ageErr', 'logAge', 'logAgeErr', 'distKpc', 'distKpc_68u',\n",
       "       'distKpc_68l', 'distErrKpc', 'logDistKpc', 'logDistKpcErr', 'LOGG_NORM',\n",
       "       'LOGG_ERR_NORM', 'TEFF_NORM', 'TEFF_ERR_NORM', 'ALPHA_M_NORM',\n",
       "       'ALPHA_M_ERR_NORM', 'M_H_NORM', 'M_H_ERR_NORM', 'C_FE_NORM',\n",
       "       'C_FE_ERR_NORM', 'N_FE_NORM', 'N_FE_ERR_NORM', 'G_NORM', 'G_ERR_NORM',\n",
       "       'BP_NORM', 'BP_ERR_NORM', 'RP_NORM', 'RP_ERR_NORM', 'J_NORM',\n",
       "       'J_ERR_NORM', 'H_NORM', 'H_ERR_NORM', 'K_NORM', 'K_ERR_NORM'],\n",
       "      dtype='object')"
      ]
     },
     "execution_count": 18,
     "metadata": {},
     "output_type": "execute_result"
    }
   ],
   "source": [
    "data.columns"
   ]
  },
  {
   "cell_type": "code",
   "execution_count": 19,
   "metadata": {},
   "outputs": [
    {
     "data": {
      "text/plain": [
       "2331"
      ]
     },
     "execution_count": 19,
     "metadata": {},
     "output_type": "execute_result"
    }
   ],
   "source": [
    "len(data)"
   ]
  }
 ],
 "metadata": {
  "kernelspec": {
   "display_name": "Python 3",
   "language": "python",
   "name": "python3"
  },
  "language_info": {
   "codemirror_mode": {
    "name": "ipython",
    "version": 3
   },
   "file_extension": ".py",
   "mimetype": "text/x-python",
   "name": "python",
   "nbconvert_exporter": "python",
   "pygments_lexer": "ipython3",
   "version": "3.6.6"
  }
 },
 "nbformat": 4,
 "nbformat_minor": 2
}
