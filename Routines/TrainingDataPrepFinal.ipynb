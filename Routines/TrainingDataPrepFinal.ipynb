{
 "cells": [
  {
   "cell_type": "code",
   "execution_count": 1,
   "metadata": {},
   "outputs": [],
   "source": [
    "%matplotlib inline\n",
    "\n",
    "import numpy as np\n",
    "import pandas as pd\n",
    "from astropy.table import Table\n",
    "import matplotlib.pyplot as plt"
   ]
  },
  {
   "cell_type": "code",
   "execution_count": 2,
   "metadata": {},
   "outputs": [
    {
     "data": {
      "text/plain": [
       "2428"
      ]
     },
     "execution_count": 2,
     "metadata": {},
     "output_type": "execute_result"
    }
   ],
   "source": [
    "data = pd.read_csv('../train_data/TrainingOriginal.csv')\n",
    "len(data)"
   ]
  },
  {
   "cell_type": "code",
   "execution_count": 3,
   "metadata": {},
   "outputs": [
    {
     "data": {
      "text/html": [
       "<div>\n",
       "<style scoped>\n",
       "    .dataframe tbody tr th:only-of-type {\n",
       "        vertical-align: middle;\n",
       "    }\n",
       "\n",
       "    .dataframe tbody tr th {\n",
       "        vertical-align: top;\n",
       "    }\n",
       "\n",
       "    .dataframe thead th {\n",
       "        text-align: right;\n",
       "    }\n",
       "</style>\n",
       "<table border=\"1\" class=\"dataframe\">\n",
       "  <thead>\n",
       "    <tr style=\"text-align: right;\">\n",
       "      <th></th>\n",
       "      <th>Unnamed: 0</th>\n",
       "      <th>Unnamed: 0.1</th>\n",
       "      <th>APOGEE_ID_1</th>\n",
       "      <th>source_id</th>\n",
       "      <th>LOGG</th>\n",
       "      <th>TEFF</th>\n",
       "      <th>ALPHA_M</th>\n",
       "      <th>M_H</th>\n",
       "      <th>C_FE</th>\n",
       "      <th>N_FE</th>\n",
       "      <th>...</th>\n",
       "      <th>age_68L</th>\n",
       "      <th>ageErr</th>\n",
       "      <th>logAge</th>\n",
       "      <th>logAgeErr</th>\n",
       "      <th>distKpc</th>\n",
       "      <th>distKpc_68u</th>\n",
       "      <th>distKpc_68l</th>\n",
       "      <th>distErrKpc</th>\n",
       "      <th>logDistKpc</th>\n",
       "      <th>logDistKpcErr</th>\n",
       "    </tr>\n",
       "  </thead>\n",
       "  <tbody>\n",
       "    <tr>\n",
       "      <th>0</th>\n",
       "      <td>227</td>\n",
       "      <td>302</td>\n",
       "      <td>2M19412154+3843123</td>\n",
       "      <td>2076159569965114624</td>\n",
       "      <td>2.878855</td>\n",
       "      <td>4841.8115</td>\n",
       "      <td>0.064926</td>\n",
       "      <td>-0.287753</td>\n",
       "      <td>-0.039784</td>\n",
       "      <td>0.176630</td>\n",
       "      <td>...</td>\n",
       "      <td>5.8939</td>\n",
       "      <td>1.66460</td>\n",
       "      <td>0.864772</td>\n",
       "      <td>0.097237</td>\n",
       "      <td>0.605286</td>\n",
       "      <td>0.614044</td>\n",
       "      <td>0.596348</td>\n",
       "      <td>0.008848</td>\n",
       "      <td>-0.218039</td>\n",
       "      <td>0.006350</td>\n",
       "    </tr>\n",
       "    <tr>\n",
       "      <th>1</th>\n",
       "      <td>365</td>\n",
       "      <td>464</td>\n",
       "      <td>2M19282346+3924283</td>\n",
       "      <td>2053168816185494144</td>\n",
       "      <td>2.579402</td>\n",
       "      <td>4972.5083</td>\n",
       "      <td>0.000967</td>\n",
       "      <td>0.005454</td>\n",
       "      <td>-0.226555</td>\n",
       "      <td>0.421955</td>\n",
       "      <td>...</td>\n",
       "      <td>1.3044</td>\n",
       "      <td>0.02985</td>\n",
       "      <td>0.126975</td>\n",
       "      <td>0.009718</td>\n",
       "      <td>1.268108</td>\n",
       "      <td>1.277879</td>\n",
       "      <td>1.258346</td>\n",
       "      <td>0.009767</td>\n",
       "      <td>0.103156</td>\n",
       "      <td>0.003345</td>\n",
       "    </tr>\n",
       "    <tr>\n",
       "      <th>2</th>\n",
       "      <td>2924</td>\n",
       "      <td>3184</td>\n",
       "      <td>2M19045044+5011175</td>\n",
       "      <td>2133605238575768064</td>\n",
       "      <td>3.056308</td>\n",
       "      <td>4862.7140</td>\n",
       "      <td>0.206148</td>\n",
       "      <td>-0.375060</td>\n",
       "      <td>0.008855</td>\n",
       "      <td>0.084089</td>\n",
       "      <td>...</td>\n",
       "      <td>7.3282</td>\n",
       "      <td>2.15440</td>\n",
       "      <td>0.962199</td>\n",
       "      <td>0.100422</td>\n",
       "      <td>1.229389</td>\n",
       "      <td>1.248775</td>\n",
       "      <td>1.211658</td>\n",
       "      <td>0.018559</td>\n",
       "      <td>0.089689</td>\n",
       "      <td>0.006552</td>\n",
       "    </tr>\n",
       "    <tr>\n",
       "      <th>3</th>\n",
       "      <td>2501</td>\n",
       "      <td>2743</td>\n",
       "      <td>2M19425864+4750350</td>\n",
       "      <td>2080649799347029632</td>\n",
       "      <td>3.052974</td>\n",
       "      <td>4686.2637</td>\n",
       "      <td>0.080371</td>\n",
       "      <td>0.212970</td>\n",
       "      <td>0.014722</td>\n",
       "      <td>0.285538</td>\n",
       "      <td>...</td>\n",
       "      <td>7.4989</td>\n",
       "      <td>2.10950</td>\n",
       "      <td>0.975363</td>\n",
       "      <td>0.096926</td>\n",
       "      <td>0.650986</td>\n",
       "      <td>0.661429</td>\n",
       "      <td>0.641564</td>\n",
       "      <td>0.009933</td>\n",
       "      <td>-0.186429</td>\n",
       "      <td>0.006622</td>\n",
       "    </tr>\n",
       "    <tr>\n",
       "      <th>4</th>\n",
       "      <td>2001</td>\n",
       "      <td>2211</td>\n",
       "      <td>2M19430881+4544039</td>\n",
       "      <td>2080005141938797440</td>\n",
       "      <td>2.613571</td>\n",
       "      <td>4663.5977</td>\n",
       "      <td>-0.004673</td>\n",
       "      <td>0.181860</td>\n",
       "      <td>-0.151104</td>\n",
       "      <td>0.331916</td>\n",
       "      <td>...</td>\n",
       "      <td>3.3497</td>\n",
       "      <td>0.47415</td>\n",
       "      <td>0.567356</td>\n",
       "      <td>0.054130</td>\n",
       "      <td>1.243429</td>\n",
       "      <td>1.263283</td>\n",
       "      <td>1.225462</td>\n",
       "      <td>0.018910</td>\n",
       "      <td>0.094621</td>\n",
       "      <td>0.006600</td>\n",
       "    </tr>\n",
       "  </tbody>\n",
       "</table>\n",
       "<p>5 rows × 40 columns</p>\n",
       "</div>"
      ],
      "text/plain": [
       "   Unnamed: 0  Unnamed: 0.1         APOGEE_ID_1            source_id  \\\n",
       "0         227           302  2M19412154+3843123  2076159569965114624   \n",
       "1         365           464  2M19282346+3924283  2053168816185494144   \n",
       "2        2924          3184  2M19045044+5011175  2133605238575768064   \n",
       "3        2501          2743  2M19425864+4750350  2080649799347029632   \n",
       "4        2001          2211  2M19430881+4544039  2080005141938797440   \n",
       "\n",
       "       LOGG       TEFF   ALPHA_M       M_H      C_FE      N_FE  ...  age_68L  \\\n",
       "0  2.878855  4841.8115  0.064926 -0.287753 -0.039784  0.176630  ...   5.8939   \n",
       "1  2.579402  4972.5083  0.000967  0.005454 -0.226555  0.421955  ...   1.3044   \n",
       "2  3.056308  4862.7140  0.206148 -0.375060  0.008855  0.084089  ...   7.3282   \n",
       "3  3.052974  4686.2637  0.080371  0.212970  0.014722  0.285538  ...   7.4989   \n",
       "4  2.613571  4663.5977 -0.004673  0.181860 -0.151104  0.331916  ...   3.3497   \n",
       "\n",
       "    ageErr    logAge  logAgeErr   distKpc  distKpc_68u  distKpc_68l  \\\n",
       "0  1.66460  0.864772   0.097237  0.605286     0.614044     0.596348   \n",
       "1  0.02985  0.126975   0.009718  1.268108     1.277879     1.258346   \n",
       "2  2.15440  0.962199   0.100422  1.229389     1.248775     1.211658   \n",
       "3  2.10950  0.975363   0.096926  0.650986     0.661429     0.641564   \n",
       "4  0.47415  0.567356   0.054130  1.243429     1.263283     1.225462   \n",
       "\n",
       "   distErrKpc  logDistKpc  logDistKpcErr  \n",
       "0    0.008848   -0.218039       0.006350  \n",
       "1    0.009767    0.103156       0.003345  \n",
       "2    0.018559    0.089689       0.006552  \n",
       "3    0.009933   -0.186429       0.006622  \n",
       "4    0.018910    0.094621       0.006600  \n",
       "\n",
       "[5 rows x 40 columns]"
      ]
     },
     "execution_count": 3,
     "metadata": {},
     "output_type": "execute_result"
    }
   ],
   "source": [
    "data.head()"
   ]
  },
  {
   "cell_type": "code",
   "execution_count": 3,
   "metadata": {},
   "outputs": [],
   "source": [
    "feats = ['LOGG', 'TEFF', 'ALPHA_M', 'M_H', 'C_FE', 'N_FE', \\\n",
    "           'G', 'BP', 'RP', 'J', 'H', 'K']\n",
    "\n",
    "featsErr = ['LOGG_ERR', 'TEFF_ERR', 'ALPHA_M_ERR', 'M_H_ERR', 'C_FE_ERR', 'N_FE_ERR', \\\n",
    "           'G_ERR', 'BP_ERR', 'RP_ERR', 'J_ERR', 'H_ERR', 'K_ERR']\n",
    "\n",
    "def norm(feat, eFeat):\n",
    "    \n",
    "    mu  = np.mean(feat)\n",
    "    std = np.std(feat)\n",
    "    \n",
    "    scaledFeat  = (feat-mu)/std\n",
    "    scaledEFeat = eFeat/std\n",
    "\n",
    "    return(scaledFeat,scaledEFeat)"
   ]
  },
  {
   "cell_type": "code",
   "execution_count": 4,
   "metadata": {},
   "outputs": [],
   "source": [
    "for i in range(len(feats)):\n",
    "    scaledFeat, scaledEFeat = norm(data[feats[i]], data[featsErr[i]])\n",
    "    data[feats[i]+'_NORM'] = scaledFeat\n",
    "    data[featsErr[i]+'_NORM'] = scaledEFeat"
   ]
  },
  {
   "cell_type": "code",
   "execution_count": 5,
   "metadata": {},
   "outputs": [
    {
     "data": {
      "text/html": [
       "<div>\n",
       "<style scoped>\n",
       "    .dataframe tbody tr th:only-of-type {\n",
       "        vertical-align: middle;\n",
       "    }\n",
       "\n",
       "    .dataframe tbody tr th {\n",
       "        vertical-align: top;\n",
       "    }\n",
       "\n",
       "    .dataframe thead th {\n",
       "        text-align: right;\n",
       "    }\n",
       "</style>\n",
       "<table border=\"1\" class=\"dataframe\">\n",
       "  <thead>\n",
       "    <tr style=\"text-align: right;\">\n",
       "      <th></th>\n",
       "      <th>Unnamed: 0</th>\n",
       "      <th>Unnamed: 0.1</th>\n",
       "      <th>APOGEE_ID_1</th>\n",
       "      <th>source_id</th>\n",
       "      <th>LOGG</th>\n",
       "      <th>TEFF</th>\n",
       "      <th>ALPHA_M</th>\n",
       "      <th>M_H</th>\n",
       "      <th>C_FE</th>\n",
       "      <th>N_FE</th>\n",
       "      <th>...</th>\n",
       "      <th>BP_NORM</th>\n",
       "      <th>BP_ERR_NORM</th>\n",
       "      <th>RP_NORM</th>\n",
       "      <th>RP_ERR_NORM</th>\n",
       "      <th>J_NORM</th>\n",
       "      <th>J_ERR_NORM</th>\n",
       "      <th>H_NORM</th>\n",
       "      <th>H_ERR_NORM</th>\n",
       "      <th>K_NORM</th>\n",
       "      <th>K_ERR_NORM</th>\n",
       "    </tr>\n",
       "  </thead>\n",
       "  <tbody>\n",
       "    <tr>\n",
       "      <th>0</th>\n",
       "      <td>227</td>\n",
       "      <td>302</td>\n",
       "      <td>2M19412154+3843123</td>\n",
       "      <td>2076159569965114624</td>\n",
       "      <td>2.878855</td>\n",
       "      <td>4841.8115</td>\n",
       "      <td>0.064926</td>\n",
       "      <td>-0.287753</td>\n",
       "      <td>-0.039784</td>\n",
       "      <td>0.176630</td>\n",
       "      <td>...</td>\n",
       "      <td>-1.531143</td>\n",
       "      <td>0.001007</td>\n",
       "      <td>-1.487326</td>\n",
       "      <td>0.000698</td>\n",
       "      <td>-1.453456</td>\n",
       "      <td>0.024115</td>\n",
       "      <td>-1.474416</td>\n",
       "      <td>0.019799</td>\n",
       "      <td>-1.428394</td>\n",
       "      <td>0.020973</td>\n",
       "    </tr>\n",
       "    <tr>\n",
       "      <th>1</th>\n",
       "      <td>365</td>\n",
       "      <td>464</td>\n",
       "      <td>2M19282346+3924283</td>\n",
       "      <td>2053168816185494144</td>\n",
       "      <td>2.579402</td>\n",
       "      <td>4972.5083</td>\n",
       "      <td>0.000967</td>\n",
       "      <td>0.005454</td>\n",
       "      <td>-0.226555</td>\n",
       "      <td>0.421955</td>\n",
       "      <td>...</td>\n",
       "      <td>-0.807380</td>\n",
       "      <td>0.001729</td>\n",
       "      <td>-0.779845</td>\n",
       "      <td>0.001083</td>\n",
       "      <td>-0.735733</td>\n",
       "      <td>0.024115</td>\n",
       "      <td>-0.667334</td>\n",
       "      <td>0.025622</td>\n",
       "      <td>-0.712987</td>\n",
       "      <td>0.020973</td>\n",
       "    </tr>\n",
       "    <tr>\n",
       "      <th>2</th>\n",
       "      <td>2924</td>\n",
       "      <td>3184</td>\n",
       "      <td>2M19045044+5011175</td>\n",
       "      <td>2133605238575768064</td>\n",
       "      <td>3.056308</td>\n",
       "      <td>4862.7140</td>\n",
       "      <td>0.206148</td>\n",
       "      <td>-0.375060</td>\n",
       "      <td>0.008855</td>\n",
       "      <td>0.084089</td>\n",
       "      <td>...</td>\n",
       "      <td>0.869795</td>\n",
       "      <td>0.001568</td>\n",
       "      <td>1.079026</td>\n",
       "      <td>0.000932</td>\n",
       "      <td>1.247476</td>\n",
       "      <td>0.031006</td>\n",
       "      <td>1.277581</td>\n",
       "      <td>0.034939</td>\n",
       "      <td>1.330697</td>\n",
       "      <td>0.024468</td>\n",
       "    </tr>\n",
       "    <tr>\n",
       "      <th>3</th>\n",
       "      <td>2501</td>\n",
       "      <td>2743</td>\n",
       "      <td>2M19425864+4750350</td>\n",
       "      <td>2080649799347029632</td>\n",
       "      <td>3.052974</td>\n",
       "      <td>4686.2637</td>\n",
       "      <td>0.080371</td>\n",
       "      <td>0.212970</td>\n",
       "      <td>0.014722</td>\n",
       "      <td>0.285538</td>\n",
       "      <td>...</td>\n",
       "      <td>-0.552588</td>\n",
       "      <td>0.001713</td>\n",
       "      <td>-0.569013</td>\n",
       "      <td>0.000947</td>\n",
       "      <td>-0.546255</td>\n",
       "      <td>0.024115</td>\n",
       "      <td>-0.562519</td>\n",
       "      <td>0.020963</td>\n",
       "      <td>-0.559187</td>\n",
       "      <td>0.018643</td>\n",
       "    </tr>\n",
       "    <tr>\n",
       "      <th>4</th>\n",
       "      <td>2001</td>\n",
       "      <td>2211</td>\n",
       "      <td>2M19430881+4544039</td>\n",
       "      <td>2080005141938797440</td>\n",
       "      <td>2.613571</td>\n",
       "      <td>4663.5977</td>\n",
       "      <td>-0.004673</td>\n",
       "      <td>0.181860</td>\n",
       "      <td>-0.151104</td>\n",
       "      <td>0.331916</td>\n",
       "      <td>...</td>\n",
       "      <td>-0.505505</td>\n",
       "      <td>0.001971</td>\n",
       "      <td>-0.587755</td>\n",
       "      <td>0.000949</td>\n",
       "      <td>-0.628936</td>\n",
       "      <td>0.024115</td>\n",
       "      <td>-0.688297</td>\n",
       "      <td>0.019799</td>\n",
       "      <td>-0.715318</td>\n",
       "      <td>0.013982</td>\n",
       "    </tr>\n",
       "  </tbody>\n",
       "</table>\n",
       "<p>5 rows × 64 columns</p>\n",
       "</div>"
      ],
      "text/plain": [
       "   Unnamed: 0  Unnamed: 0.1         APOGEE_ID_1            source_id  \\\n",
       "0         227           302  2M19412154+3843123  2076159569965114624   \n",
       "1         365           464  2M19282346+3924283  2053168816185494144   \n",
       "2        2924          3184  2M19045044+5011175  2133605238575768064   \n",
       "3        2501          2743  2M19425864+4750350  2080649799347029632   \n",
       "4        2001          2211  2M19430881+4544039  2080005141938797440   \n",
       "\n",
       "       LOGG       TEFF   ALPHA_M       M_H      C_FE      N_FE  ...   BP_NORM  \\\n",
       "0  2.878855  4841.8115  0.064926 -0.287753 -0.039784  0.176630  ... -1.531143   \n",
       "1  2.579402  4972.5083  0.000967  0.005454 -0.226555  0.421955  ... -0.807380   \n",
       "2  3.056308  4862.7140  0.206148 -0.375060  0.008855  0.084089  ...  0.869795   \n",
       "3  3.052974  4686.2637  0.080371  0.212970  0.014722  0.285538  ... -0.552588   \n",
       "4  2.613571  4663.5977 -0.004673  0.181860 -0.151104  0.331916  ... -0.505505   \n",
       "\n",
       "   BP_ERR_NORM   RP_NORM  RP_ERR_NORM    J_NORM  J_ERR_NORM    H_NORM  \\\n",
       "0     0.001007 -1.487326     0.000698 -1.453456    0.024115 -1.474416   \n",
       "1     0.001729 -0.779845     0.001083 -0.735733    0.024115 -0.667334   \n",
       "2     0.001568  1.079026     0.000932  1.247476    0.031006  1.277581   \n",
       "3     0.001713 -0.569013     0.000947 -0.546255    0.024115 -0.562519   \n",
       "4     0.001971 -0.587755     0.000949 -0.628936    0.024115 -0.688297   \n",
       "\n",
       "   H_ERR_NORM    K_NORM  K_ERR_NORM  \n",
       "0    0.019799 -1.428394    0.020973  \n",
       "1    0.025622 -0.712987    0.020973  \n",
       "2    0.034939  1.330697    0.024468  \n",
       "3    0.020963 -0.559187    0.018643  \n",
       "4    0.019799 -0.715318    0.013982  \n",
       "\n",
       "[5 rows x 64 columns]"
      ]
     },
     "execution_count": 5,
     "metadata": {},
     "output_type": "execute_result"
    }
   ],
   "source": [
    "data.head()"
   ]
  },
  {
   "cell_type": "code",
   "execution_count": 6,
   "metadata": {},
   "outputs": [],
   "source": [
    "N = len(feats)\n",
    "mu_feats = np.ones(N)\n",
    "std_feats = np.ones(N)\n",
    "\n",
    "for i in range(len(feats)):\n",
    "    mu_feats[i] = np.mean(data[feats[i]])\n",
    "    std_feats[i] = np.std(data[feats[i]])"
   ]
  },
  {
   "cell_type": "code",
   "execution_count": 7,
   "metadata": {},
   "outputs": [],
   "source": [
    "np.save('../train_data/AllGlobal_Mu_Final.npy', mu_feats)\n",
    "np.save('../train_data/AllGlobal_Std_Final.npy', std_feats)"
   ]
  },
  {
   "cell_type": "code",
   "execution_count": 9,
   "metadata": {},
   "outputs": [
    {
     "data": {
      "text/plain": [
       "2.7069915404448106"
      ]
     },
     "execution_count": 9,
     "metadata": {},
     "output_type": "execute_result"
    }
   ],
   "source": [
    "mu_feats[0]"
   ]
  },
  {
   "cell_type": "code",
   "execution_count": 10,
   "metadata": {},
   "outputs": [
    {
     "data": {
      "text/plain": [
       "2.7069915404448106"
      ]
     },
     "execution_count": 10,
     "metadata": {},
     "output_type": "execute_result"
    }
   ],
   "source": [
    "np.mean(data['LOGG'])"
   ]
  },
  {
   "cell_type": "code",
   "execution_count": 8,
   "metadata": {},
   "outputs": [],
   "source": [
    "data.to_csv('../train_data/AllTrainedNorm.csv')"
   ]
  },
  {
   "cell_type": "code",
   "execution_count": 12,
   "metadata": {},
   "outputs": [
    {
     "data": {
      "text/html": [
       "<div>\n",
       "<style scoped>\n",
       "    .dataframe tbody tr th:only-of-type {\n",
       "        vertical-align: middle;\n",
       "    }\n",
       "\n",
       "    .dataframe tbody tr th {\n",
       "        vertical-align: top;\n",
       "    }\n",
       "\n",
       "    .dataframe thead th {\n",
       "        text-align: right;\n",
       "    }\n",
       "</style>\n",
       "<table border=\"1\" class=\"dataframe\">\n",
       "  <thead>\n",
       "    <tr style=\"text-align: right;\">\n",
       "      <th></th>\n",
       "      <th>Unnamed: 0</th>\n",
       "      <th>Unnamed: 0.1</th>\n",
       "      <th>APOGEE_ID_1</th>\n",
       "      <th>source_id</th>\n",
       "      <th>LOGG</th>\n",
       "      <th>TEFF</th>\n",
       "      <th>ALPHA_M</th>\n",
       "      <th>M_H</th>\n",
       "      <th>C_FE</th>\n",
       "      <th>N_FE</th>\n",
       "      <th>...</th>\n",
       "      <th>BP_NORM</th>\n",
       "      <th>BP_ERR_NORM</th>\n",
       "      <th>RP_NORM</th>\n",
       "      <th>RP_ERR_NORM</th>\n",
       "      <th>J_NORM</th>\n",
       "      <th>J_ERR_NORM</th>\n",
       "      <th>H_NORM</th>\n",
       "      <th>H_ERR_NORM</th>\n",
       "      <th>K_NORM</th>\n",
       "      <th>K_ERR_NORM</th>\n",
       "    </tr>\n",
       "  </thead>\n",
       "  <tbody>\n",
       "    <tr>\n",
       "      <th>0</th>\n",
       "      <td>227</td>\n",
       "      <td>302</td>\n",
       "      <td>2M19412154+3843123</td>\n",
       "      <td>2076159569965114624</td>\n",
       "      <td>2.878855</td>\n",
       "      <td>4841.8115</td>\n",
       "      <td>0.064926</td>\n",
       "      <td>-0.287753</td>\n",
       "      <td>-0.039784</td>\n",
       "      <td>0.176630</td>\n",
       "      <td>...</td>\n",
       "      <td>-1.531143</td>\n",
       "      <td>0.001007</td>\n",
       "      <td>-1.487326</td>\n",
       "      <td>0.000698</td>\n",
       "      <td>-1.453456</td>\n",
       "      <td>0.024115</td>\n",
       "      <td>-1.474416</td>\n",
       "      <td>0.019799</td>\n",
       "      <td>-1.428394</td>\n",
       "      <td>0.020973</td>\n",
       "    </tr>\n",
       "    <tr>\n",
       "      <th>1</th>\n",
       "      <td>365</td>\n",
       "      <td>464</td>\n",
       "      <td>2M19282346+3924283</td>\n",
       "      <td>2053168816185494144</td>\n",
       "      <td>2.579402</td>\n",
       "      <td>4972.5083</td>\n",
       "      <td>0.000967</td>\n",
       "      <td>0.005454</td>\n",
       "      <td>-0.226555</td>\n",
       "      <td>0.421955</td>\n",
       "      <td>...</td>\n",
       "      <td>-0.807380</td>\n",
       "      <td>0.001729</td>\n",
       "      <td>-0.779845</td>\n",
       "      <td>0.001083</td>\n",
       "      <td>-0.735733</td>\n",
       "      <td>0.024115</td>\n",
       "      <td>-0.667334</td>\n",
       "      <td>0.025622</td>\n",
       "      <td>-0.712987</td>\n",
       "      <td>0.020973</td>\n",
       "    </tr>\n",
       "    <tr>\n",
       "      <th>2</th>\n",
       "      <td>2924</td>\n",
       "      <td>3184</td>\n",
       "      <td>2M19045044+5011175</td>\n",
       "      <td>2133605238575768064</td>\n",
       "      <td>3.056308</td>\n",
       "      <td>4862.7140</td>\n",
       "      <td>0.206148</td>\n",
       "      <td>-0.375060</td>\n",
       "      <td>0.008855</td>\n",
       "      <td>0.084089</td>\n",
       "      <td>...</td>\n",
       "      <td>0.869795</td>\n",
       "      <td>0.001568</td>\n",
       "      <td>1.079026</td>\n",
       "      <td>0.000932</td>\n",
       "      <td>1.247476</td>\n",
       "      <td>0.031006</td>\n",
       "      <td>1.277581</td>\n",
       "      <td>0.034939</td>\n",
       "      <td>1.330697</td>\n",
       "      <td>0.024468</td>\n",
       "    </tr>\n",
       "    <tr>\n",
       "      <th>3</th>\n",
       "      <td>2501</td>\n",
       "      <td>2743</td>\n",
       "      <td>2M19425864+4750350</td>\n",
       "      <td>2080649799347029632</td>\n",
       "      <td>3.052974</td>\n",
       "      <td>4686.2637</td>\n",
       "      <td>0.080371</td>\n",
       "      <td>0.212970</td>\n",
       "      <td>0.014722</td>\n",
       "      <td>0.285538</td>\n",
       "      <td>...</td>\n",
       "      <td>-0.552588</td>\n",
       "      <td>0.001713</td>\n",
       "      <td>-0.569013</td>\n",
       "      <td>0.000947</td>\n",
       "      <td>-0.546255</td>\n",
       "      <td>0.024115</td>\n",
       "      <td>-0.562519</td>\n",
       "      <td>0.020963</td>\n",
       "      <td>-0.559187</td>\n",
       "      <td>0.018643</td>\n",
       "    </tr>\n",
       "    <tr>\n",
       "      <th>4</th>\n",
       "      <td>2001</td>\n",
       "      <td>2211</td>\n",
       "      <td>2M19430881+4544039</td>\n",
       "      <td>2080005141938797440</td>\n",
       "      <td>2.613571</td>\n",
       "      <td>4663.5977</td>\n",
       "      <td>-0.004673</td>\n",
       "      <td>0.181860</td>\n",
       "      <td>-0.151104</td>\n",
       "      <td>0.331916</td>\n",
       "      <td>...</td>\n",
       "      <td>-0.505505</td>\n",
       "      <td>0.001971</td>\n",
       "      <td>-0.587755</td>\n",
       "      <td>0.000949</td>\n",
       "      <td>-0.628936</td>\n",
       "      <td>0.024115</td>\n",
       "      <td>-0.688297</td>\n",
       "      <td>0.019799</td>\n",
       "      <td>-0.715318</td>\n",
       "      <td>0.013982</td>\n",
       "    </tr>\n",
       "  </tbody>\n",
       "</table>\n",
       "<p>5 rows × 64 columns</p>\n",
       "</div>"
      ],
      "text/plain": [
       "   Unnamed: 0  Unnamed: 0.1         APOGEE_ID_1            source_id  \\\n",
       "0         227           302  2M19412154+3843123  2076159569965114624   \n",
       "1         365           464  2M19282346+3924283  2053168816185494144   \n",
       "2        2924          3184  2M19045044+5011175  2133605238575768064   \n",
       "3        2501          2743  2M19425864+4750350  2080649799347029632   \n",
       "4        2001          2211  2M19430881+4544039  2080005141938797440   \n",
       "\n",
       "       LOGG       TEFF   ALPHA_M       M_H      C_FE      N_FE  ...   BP_NORM  \\\n",
       "0  2.878855  4841.8115  0.064926 -0.287753 -0.039784  0.176630  ... -1.531143   \n",
       "1  2.579402  4972.5083  0.000967  0.005454 -0.226555  0.421955  ... -0.807380   \n",
       "2  3.056308  4862.7140  0.206148 -0.375060  0.008855  0.084089  ...  0.869795   \n",
       "3  3.052974  4686.2637  0.080371  0.212970  0.014722  0.285538  ... -0.552588   \n",
       "4  2.613571  4663.5977 -0.004673  0.181860 -0.151104  0.331916  ... -0.505505   \n",
       "\n",
       "   BP_ERR_NORM   RP_NORM  RP_ERR_NORM    J_NORM  J_ERR_NORM    H_NORM  \\\n",
       "0     0.001007 -1.487326     0.000698 -1.453456    0.024115 -1.474416   \n",
       "1     0.001729 -0.779845     0.001083 -0.735733    0.024115 -0.667334   \n",
       "2     0.001568  1.079026     0.000932  1.247476    0.031006  1.277581   \n",
       "3     0.001713 -0.569013     0.000947 -0.546255    0.024115 -0.562519   \n",
       "4     0.001971 -0.587755     0.000949 -0.628936    0.024115 -0.688297   \n",
       "\n",
       "   H_ERR_NORM    K_NORM  K_ERR_NORM  \n",
       "0    0.019799 -1.428394    0.020973  \n",
       "1    0.025622 -0.712987    0.020973  \n",
       "2    0.034939  1.330697    0.024468  \n",
       "3    0.020963 -0.559187    0.018643  \n",
       "4    0.019799 -0.715318    0.013982  \n",
       "\n",
       "[5 rows x 64 columns]"
      ]
     },
     "execution_count": 12,
     "metadata": {},
     "output_type": "execute_result"
    }
   ],
   "source": [
    "data.head()"
   ]
  },
  {
   "cell_type": "code",
   "execution_count": 13,
   "metadata": {},
   "outputs": [
    {
     "data": {
      "text/plain": [
       "(array([ 16.,  58.,  93., 184., 294., 419., 470., 566., 318.,  10.]),\n",
       " array([ 8.896568 ,  9.3999375,  9.903307 , 10.4066765, 10.910046 ,\n",
       "        11.4134155, 11.916785 , 12.4201545, 12.923524 , 13.4268935,\n",
       "        13.930263 ]),\n",
       " <a list of 10 Patch objects>)"
      ]
     },
     "execution_count": 13,
     "metadata": {},
     "output_type": "execute_result"
    },
    {
     "data": {
      "image/png": "[encoded data removed]",
      "text/plain": [
       "<Figure size 432x288 with 1 Axes>"
      ]
     },
     "metadata": {
      "needs_background": "light"
     },
     "output_type": "display_data"
    }
   ],
   "source": [
    "plt.hist(data['G'])"
   ]
  },
  {
   "cell_type": "code",
   "execution_count": 14,
   "metadata": {},
   "outputs": [
    {
     "data": {
      "text/plain": [
       "(array([ 16.,  58.,  93., 184., 294., 419., 470., 566., 318.,  10.]),\n",
       " array([-3.33256335, -2.78244442, -2.23232548, -1.68220655, -1.13208762,\n",
       "        -0.58196868, -0.03184975,  0.51826918,  1.06838812,  1.61850705,\n",
       "         2.16862598]),\n",
       " <a list of 10 Patch objects>)"
      ]
     },
     "execution_count": 14,
     "metadata": {},
     "output_type": "execute_result"
    },
    {
     "data": {
      "image/png": "[encoded data removed]",
      "text/plain": [
       "<Figure size 432x288 with 1 Axes>"
      ]
     },
     "metadata": {
      "needs_background": "light"
     },
     "output_type": "display_data"
    }
   ],
   "source": [
    "plt.hist((data['G']-np.mean(data['G']))/np.std(data['G']))"
   ]
  },
  {
   "cell_type": "code",
   "execution_count": 15,
   "metadata": {},
   "outputs": [
    {
     "data": {
      "text/plain": [
       "(array([ 16.,  58.,  93., 184., 294., 419., 470., 566., 318.,  10.]),\n",
       " array([-3.33256335, -2.78244442, -2.23232548, -1.68220655, -1.13208762,\n",
       "        -0.58196868, -0.03184975,  0.51826918,  1.06838812,  1.61850705,\n",
       "         2.16862598]),\n",
       " <a list of 10 Patch objects>)"
      ]
     },
     "execution_count": 15,
     "metadata": {},
     "output_type": "execute_result"
    },
    {
     "data": {
      "image/png": "[encoded data removed]",
      "text/plain": [
       "<Figure size 432x288 with 1 Axes>"
      ]
     },
     "metadata": {
      "needs_background": "light"
     },
     "output_type": "display_data"
    }
   ],
   "source": [
    "plt.hist(data['G_NORM'])"
   ]
  },
  {
   "cell_type": "code",
   "execution_count": 16,
   "metadata": {},
   "outputs": [
    {
     "data": {
      "text/plain": [
       "Index(['Unnamed: 0', 'Unnamed: 0.1', 'APOGEE_ID_1', 'source_id', 'LOGG',\n",
       "       'TEFF', 'ALPHA_M', 'M_H', 'C_FE', 'N_FE', 'G', 'BP', 'RP', 'J', 'H',\n",
       "       'K', 'LOGG_ERR', 'TEFF_ERR', 'ALPHA_M_ERR', 'M_H_ERR', 'C_FE_ERR',\n",
       "       'N_FE_ERR', 'G_ERR', 'BP_ERR', 'RP_ERR', 'J_ERR', 'H_ERR', 'K_ERR',\n",
       "       'age', 'age_68U', 'age_68L', 'ageErr', 'logAge', 'logAgeErr', 'distKpc',\n",
       "       'distKpc_68u', 'distKpc_68l', 'distErrKpc', 'logDistKpc',\n",
       "       'logDistKpcErr', 'LOGG_NORM', 'LOGG_ERR_NORM', 'TEFF_NORM',\n",
       "       'TEFF_ERR_NORM', 'ALPHA_M_NORM', 'ALPHA_M_ERR_NORM', 'M_H_NORM',\n",
       "       'M_H_ERR_NORM', 'C_FE_NORM', 'C_FE_ERR_NORM', 'N_FE_NORM',\n",
       "       'N_FE_ERR_NORM', 'G_NORM', 'G_ERR_NORM', 'BP_NORM', 'BP_ERR_NORM',\n",
       "       'RP_NORM', 'RP_ERR_NORM', 'J_NORM', 'J_ERR_NORM', 'H_NORM',\n",
       "       'H_ERR_NORM', 'K_NORM', 'K_ERR_NORM'],\n",
       "      dtype='object')"
      ]
     },
     "execution_count": 16,
     "metadata": {},
     "output_type": "execute_result"
    }
   ],
   "source": [
    "data.columns"
   ]
  },
  {
   "cell_type": "code",
   "execution_count": 17,
   "metadata": {},
   "outputs": [
    {
     "data": {
      "text/plain": [
       "2428"
      ]
     },
     "execution_count": 17,
     "metadata": {},
     "output_type": "execute_result"
    }
   ],
   "source": [
    "len(data)"
   ]
  },
  {
   "cell_type": "code",
   "execution_count": null,
   "metadata": {},
   "outputs": [],
   "source": []
  }
 ],
 "metadata": {
  "kernelspec": {
   "display_name": "Python 3",
   "language": "python",
   "name": "python3"
  },
  "language_info": {
   "codemirror_mode": {
    "name": "ipython",
    "version": 3
   },
   "file_extension": ".py",
   "mimetype": "text/x-python",
   "name": "python",
   "nbconvert_exporter": "python",
   "pygments_lexer": "ipython3",
   "version": "3.6.6"
  }
 },
 "nbformat": 4,
 "nbformat_minor": 2
}
