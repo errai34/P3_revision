{
 "cells": [
  {
   "cell_type": "markdown",
   "metadata": {},
   "source": [
    "# This is to get the final training and testing sets. \n",
    "The core here is data consistency: have all the estimates and their uncertainities; make sure the data has been standardized properly etc."
   ]
  },
  {
   "cell_type": "code",
   "execution_count": 1,
   "metadata": {},
   "outputs": [],
   "source": [
    "%matplotlib inline\n",
    "\n",
    "import numpy as np\n",
    "import pandas as pd\n",
    "from astropy.table import Table\n",
    "from astropy.io.misc.hdf5 import write_table_hdf5\n",
    "import matplotlib.pyplot as plt"
   ]
  },
  {
   "cell_type": "code",
   "execution_count": 2,
   "metadata": {},
   "outputs": [
    {
     "data": {
      "text/plain": [
       "3046"
      ]
     },
     "execution_count": 2,
     "metadata": {},
     "output_type": "execute_result"
    }
   ],
   "source": [
    "dataAll = pd.read_csv('../data/BINGO_full_info.csv')\n",
    "dataAll.head()\n",
    "len(dataAll)\n",
    "mask =  (dataAll['SNR']>=100) & (dataAll['dist'] > 0) \n",
    "dataAll = dataAll[mask]\n",
    "len(dataAll)"
   ]
  },
  {
   "cell_type": "code",
   "execution_count": null,
   "metadata": {},
   "outputs": [],
   "source": [
    "plt.hist(dataAll.mass)"
   ]
  },
  {
   "cell_type": "markdown",
   "metadata": {},
   "source": [
    "Step 1 is the training set. We are selecting only stars with SNR > 100 as our training set. We also make sure that the RC stars with mass greater than 1.2 solar masses are chosen."
   ]
  },
  {
   "cell_type": "code",
   "execution_count": 3,
   "metadata": {},
   "outputs": [
    {
     "name": "stdout",
     "output_type": "stream",
     "text": [
      "The number of stars in the APOGEE-TGAS DR14 sample is:\n",
      "3046\n",
      "Found 3046 stars with positive ages\n",
      "Found 3046 stars with good g fluxes\n",
      "Found 3046 stars with good bp fluxes\n",
      "Found 3046 stars with good rp fluxes\n",
      "Found 3042 stars with good J err values\n",
      "Found 3039 stars with good H err values\n",
      "Found 3036 stars with good K err values\n"
     ]
    }
   ],
   "source": [
    "nstars   = len(dataAll)  \n",
    "\n",
    "print(\"The number of stars in the APOGEE-TGAS DR14 sample is:\")\n",
    "print(nstars) \n",
    "\n",
    "index  = dataAll['age']>=0\n",
    "print(\"Found \"+str(np.sum(index))+\" stars with positive ages\")\n",
    "dataAge = dataAll[:][index]\n",
    "\n",
    "index_g = dataAge['phot_g_mean_flux']>=0\n",
    "print(\"Found \"+str(np.sum(index_g))+\" stars with good g fluxes\")\n",
    "dataAge = dataAge[:][index_g]\n",
    "\n",
    "index_bp = dataAge['phot_bp_mean_flux']>=0\n",
    "print(\"Found \"+str(np.sum(index_bp))+\" stars with good bp fluxes\")\n",
    "dataAge = dataAge[:][index_bp]\n",
    "\n",
    "index_rp = dataAge['phot_rp_mean_flux']>=0\n",
    "print(\"Found \"+str(np.sum(index_rp))+\" stars with good rp fluxes\")\n",
    "dataAge = dataAge[:][index_rp]\n",
    "\n",
    "index_jerr = dataAge['J_ERR']>=0\n",
    "print(\"Found \"+str(np.sum(index_jerr))+\" stars with good J err values\")\n",
    "dataAge = dataAge[:][index_jerr]\n",
    "\n",
    "index_jerr = dataAge['H_ERR']>=0\n",
    "print(\"Found \"+str(np.sum(index_jerr))+\" stars with good H err values\")\n",
    "dataAge = dataAge[:][index_jerr]\n",
    "\n",
    "index_jerr = dataAge['K_ERR']>=0\n",
    "print(\"Found \"+str(np.sum(index_jerr))+\" stars with good K err values\")\n",
    "data = dataAge[:][index_jerr]"
   ]
  },
  {
   "cell_type": "code",
   "execution_count": 4,
   "metadata": {},
   "outputs": [],
   "source": [
    "# Get the final features: logg, teff, alpham, mh, cfe, nfe, gmag, bpmag, rpmag, j, h, k & their errors\n",
    "# Get the final targets: age and distance and their errors\n",
    "\n",
    "g_mag = data['phot_g_mean_mag']\n",
    "g_flux = data['phot_g_mean_flux']\n",
    "g_flux_error = data['phot_g_mean_flux_error']\n",
    "gmagErr = 0.5 * 2.5 * (np.log10(g_flux + g_flux_error) - np.log10(g_flux - g_flux_error ))\n",
    "\n",
    "bp_mag = data['phot_bp_mean_mag']\n",
    "bp_flux = data['phot_bp_mean_flux']\n",
    "bp_flux_error = data['phot_bp_mean_flux_error']\n",
    "bpmagErr = 0.5 * 2.5 * (np.log10(bp_flux + bp_flux_error) - np.log10(bp_flux - bp_flux_error ))\n",
    "\n",
    "rp_mag = data['phot_rp_mean_mag']\n",
    "rp_flux = data['phot_rp_mean_flux']\n",
    "rp_flux_error = data['phot_rp_mean_flux_error']\n",
    "rpmagErr = 0.5 * 2.5 * (np.log10(rp_flux + rp_flux_error) - np.log10(rp_flux - rp_flux_error ))\n",
    "\n",
    "data['G'] = g_mag\n",
    "data['G_ERR'] = gmagErr\n",
    "\n",
    "data['BP'] = bp_mag\n",
    "data['BP_ERR'] = bpmagErr\n",
    "\n",
    "data['RP'] = rp_mag\n",
    "data['RP_ERR'] = rpmagErr"
   ]
  },
  {
   "cell_type": "code",
   "execution_count": null,
   "metadata": {},
   "outputs": [],
   "source": [
    "min(data.dist)"
   ]
  },
  {
   "cell_type": "code",
   "execution_count": 5,
   "metadata": {},
   "outputs": [],
   "source": [
    "# Target 1: age and age uncertainty\n",
    "age = data['age']\n",
    "age_68u = data['age_68U']\n",
    "age_68l = data['age_68L']\n",
    "ageErr = (age_68u - age_68l)/2.0\n",
    "data['ageErr'] = ageErr\n",
    "\n",
    "logAge = np.log10(age)\n",
    "logAgeErr = (np.log10(age_68u) - np.log10(age_68l))/2.0\n",
    "\n",
    "data['logAge'] = logAge\n",
    "data['logAgeErr'] = logAgeErr"
   ]
  },
  {
   "cell_type": "code",
   "execution_count": null,
   "metadata": {},
   "outputs": [],
   "source": [
    "plt.hist(logAge)\n",
    "len(logAge)"
   ]
  },
  {
   "cell_type": "code",
   "execution_count": 6,
   "metadata": {},
   "outputs": [],
   "source": [
    "dist = data['dist']\n",
    "dist_68u = data['dist_68U']\n",
    "dist_68l = data['dist_68L']\n",
    "dist_err = (dist_68u - dist_68l)/2.0\n",
    "\n",
    "# This is distance in kpc\n",
    "# Make sure you change this in the distance modulus\n",
    "\n",
    "dist_kpc = dist/1000\n",
    "logDistKpc = np.log10(dist_kpc)\n",
    "\n",
    "dist_68u_kpc = dist_68u/1000\n",
    "dist_68l_kpc = dist_68l/1000\n",
    "dist_kpc_err = dist_err/1000\n",
    "\n",
    "logDistKpcErr = (np.log10(dist_68u_kpc) - np.log10(dist_68l_kpc))/2.0\n",
    "\n",
    "data['distKpc'] = dist_kpc\n",
    "data['distKpc_68u'] = dist_68u_kpc\n",
    "data['distKpc_68l'] = dist_68l_kpc\n",
    "data['distErrKpc'] = dist_kpc_err\n",
    "\n",
    "# Get the log(distance) error\n",
    "# Also make sure you save an APOGEE id etc. Done\n",
    "\n",
    "data['logDistKpc'] = logDistKpc\n",
    "data['logDistKpcErr'] = logDistKpcErr"
   ]
  },
  {
   "cell_type": "code",
   "execution_count": 7,
   "metadata": {},
   "outputs": [],
   "source": [
    "feats = ['APOGEE_ID_1', 'source_id', 'LOGG', 'TEFF', 'ALPHA_M', 'M_H', 'C_FE', 'N_FE', \\\n",
    "           'G', 'BP', 'RP', 'J', 'H', 'K', 'LOGG_ERR', 'TEFF_ERR', 'ALPHA_M_ERR', 'M_H_ERR', 'C_FE_ERR', 'N_FE_ERR', \\\n",
    "           'G_ERR', 'BP_ERR', 'RP_ERR', 'J_ERR', 'H_ERR', 'K_ERR', \\\n",
    "           'age', 'age_68U', 'age_68L', 'ageErr', 'logAge', 'logAgeErr', \\\n",
    "           'distKpc', 'distKpc_68u','distKpc_68l', 'distErrKpc', 'logDistKpc', 'logDistKpcErr']\n",
    "\n",
    "dataOfInterest = data[feats]"
   ]
  },
  {
   "cell_type": "code",
   "execution_count": null,
   "metadata": {},
   "outputs": [],
   "source": [
    "plt.hist(dataOfInterest['logDistKpcErr'])"
   ]
  },
  {
   "cell_type": "code",
   "execution_count": 8,
   "metadata": {},
   "outputs": [],
   "source": [
    "dataOfInterest.to_csv('../train_data/AllOriginal.csv')"
   ]
  },
  {
   "cell_type": "code",
   "execution_count": null,
   "metadata": {},
   "outputs": [],
   "source": [
    "dataOfInterest.head(5)"
   ]
  },
  {
   "cell_type": "code",
   "execution_count": null,
   "metadata": {},
   "outputs": [],
   "source": [
    "len(dataOfInterest)"
   ]
  },
  {
   "cell_type": "code",
   "execution_count": null,
   "metadata": {},
   "outputs": [],
   "source": []
  }
 ],
 "metadata": {
  "kernelspec": {
   "display_name": "Python 3",
   "language": "python",
   "name": "python3"
  },
  "language_info": {
   "codemirror_mode": {
    "name": "ipython",
    "version": 3
   },
   "file_extension": ".py",
   "mimetype": "text/x-python",
   "name": "python",
   "nbconvert_exporter": "python",
   "pygments_lexer": "ipython3",
   "version": "3.6.6"
  }
 },
 "nbformat": 4,
 "nbformat_minor": 2
}
