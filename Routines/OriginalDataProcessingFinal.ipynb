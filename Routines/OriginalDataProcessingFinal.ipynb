{
 "cells": [
  {
   "cell_type": "markdown",
   "metadata": {},
   "source": [
    "# This is to get the final training and testing sets. \n",
    "The core here is data consistency: have all the estimates and their uncertainities; make sure the data has been standardized properly etc."
   ]
  },
  {
   "cell_type": "code",
   "execution_count": 1,
   "metadata": {},
   "outputs": [],
   "source": [
    "%matplotlib inline\n",
    "\n",
    "import numpy as np\n",
    "import pandas as pd\n",
    "from astropy.table import Table\n",
    "from astropy.io.misc.hdf5 import write_table_hdf5\n",
    "import matplotlib.pyplot as plt"
   ]
  },
  {
   "cell_type": "code",
   "execution_count": 2,
   "metadata": {},
   "outputs": [
    {
     "data": {
      "text/plain": [
       "3297"
      ]
     },
     "execution_count": 2,
     "metadata": {},
     "output_type": "execute_result"
    }
   ],
   "source": [
    "dataAll = pd.read_csv('../data/BINGO_full_info.csv')\n",
    "dataAll.head()\n",
    "len(dataAll)"
   ]
  },
  {
   "cell_type": "markdown",
   "metadata": {},
   "source": [
    "Step 1 is the training set. We are selecting only stars with SNR > 100 as our training set. We also make sure that the RC stars with mass greater than 1.2 solar masses are chosen."
   ]
  },
  {
   "cell_type": "code",
   "execution_count": 3,
   "metadata": {},
   "outputs": [],
   "source": [
    "mask = (dataAll['age']>=0) & (dataAll['age']<=20) & (dataAll['SNR']>=100) & \\\n",
    "((dataAll['evstate']==1) | ((dataAll['evstate']==2) & (dataAll['mass']>=1.2))) & (dataAll['dist'] > 0)\n",
    "dataAll = dataAll[mask]"
   ]
  },
  {
   "cell_type": "code",
   "execution_count": 4,
   "metadata": {},
   "outputs": [
    {
     "data": {
      "text/plain": [
       "3046"
      ]
     },
     "execution_count": 4,
     "metadata": {},
     "output_type": "execute_result"
    }
   ],
   "source": [
    "len(dataAll)"
   ]
  },
  {
   "cell_type": "code",
   "execution_count": 5,
   "metadata": {},
   "outputs": [
    {
     "name": "stdout",
     "output_type": "stream",
     "text": [
      "The number of stars in the APOGEE-TGAS DR14 sample is:\n",
      "3046\n",
      "Found 3046 stars with positive ages\n",
      "Found 3046 stars with good g fluxes\n",
      "Found 3046 stars with good bp fluxes\n",
      "Found 3046 stars with good rp fluxes\n",
      "Found 3042 stars with good J err values\n",
      "Found 3039 stars with good H err values\n",
      "Found 3036 stars with good K err values\n"
     ]
    }
   ],
   "source": [
    "nstars   = len(dataAll)  \n",
    "\n",
    "print(\"The number of stars in the APOGEE-TGAS DR14 sample is:\")\n",
    "print(nstars) \n",
    "\n",
    "index  = dataAll['age']>=0\n",
    "print(\"Found \"+str(np.sum(index))+\" stars with positive ages\")\n",
    "dataAge = dataAll[:][index]\n",
    "\n",
    "index_g = dataAge['phot_g_mean_flux']>=0\n",
    "print(\"Found \"+str(np.sum(index_g))+\" stars with good g fluxes\")\n",
    "dataAge = dataAge[:][index_g]\n",
    "\n",
    "index_bp = dataAge['phot_bp_mean_flux']>=0\n",
    "print(\"Found \"+str(np.sum(index_bp))+\" stars with good bp fluxes\")\n",
    "dataAge = dataAge[:][index_bp]\n",
    "\n",
    "index_rp = dataAge['phot_rp_mean_flux']>=0\n",
    "print(\"Found \"+str(np.sum(index_rp))+\" stars with good rp fluxes\")\n",
    "dataAge = dataAge[:][index_rp]\n",
    "\n",
    "index_jerr = dataAge['J_ERR']>=0\n",
    "print(\"Found \"+str(np.sum(index_jerr))+\" stars with good J err values\")\n",
    "dataAge = dataAge[:][index_jerr]\n",
    "\n",
    "index_jerr = dataAge['H_ERR']>=0\n",
    "print(\"Found \"+str(np.sum(index_jerr))+\" stars with good H err values\")\n",
    "dataAge = dataAge[:][index_jerr]\n",
    "\n",
    "index_jerr = dataAge['K_ERR']>=0\n",
    "print(\"Found \"+str(np.sum(index_jerr))+\" stars with good K err values\")\n",
    "data = dataAge[:][index_jerr]"
   ]
  },
  {
   "cell_type": "code",
   "execution_count": 6,
   "metadata": {},
   "outputs": [],
   "source": [
    "# Get the final features: logg, teff, alpham, mh, cfe, nfe, gmag, bpmag, rpmag, j, h, k & their errors\n",
    "# Get the final targets: age and distance and their errors\n",
    "\n",
    "g_mag = data['phot_g_mean_mag']\n",
    "g_flux = data['phot_g_mean_flux']\n",
    "g_flux_error = data['phot_g_mean_flux_error']\n",
    "gmagErr = 0.5 * 2.5 * (np.log10(g_flux + g_flux_error) - np.log10(g_flux - g_flux_error ))\n",
    "\n",
    "bp_mag = data['phot_bp_mean_mag']\n",
    "bp_flux = data['phot_bp_mean_flux']\n",
    "bp_flux_error = data['phot_bp_mean_flux_error']\n",
    "bpmagErr = 0.5 * 2.5 * (np.log10(bp_flux + bp_flux_error) - np.log10(bp_flux - bp_flux_error ))\n",
    "\n",
    "rp_mag = data['phot_rp_mean_mag']\n",
    "rp_flux = data['phot_rp_mean_flux']\n",
    "rp_flux_error = data['phot_rp_mean_flux_error']\n",
    "rpmagErr = 0.5 * 2.5 * (np.log10(rp_flux + rp_flux_error) - np.log10(rp_flux - rp_flux_error ))\n",
    "\n",
    "data['G'] = g_mag\n",
    "data['G_ERR'] = gmagErr\n",
    "\n",
    "data['BP'] = bp_mag\n",
    "data['BP_ERR'] = bpmagErr\n",
    "\n",
    "data['RP'] = rp_mag\n",
    "data['RP_ERR'] = rpmagErr"
   ]
  },
  {
   "cell_type": "code",
   "execution_count": 7,
   "metadata": {},
   "outputs": [
    {
     "data": {
      "text/plain": [
       "190.4085"
      ]
     },
     "execution_count": 7,
     "metadata": {},
     "output_type": "execute_result"
    }
   ],
   "source": [
    "min(data.dist)"
   ]
  },
  {
   "cell_type": "code",
   "execution_count": 8,
   "metadata": {},
   "outputs": [],
   "source": [
    "# Target 1: age and age uncertainty\n",
    "age = data['age']\n",
    "age_68u = data['age_68U']\n",
    "age_68l = data['age_68L']\n",
    "ageErr = (age_68u - age_68l)/2.0\n",
    "data['ageErr'] = ageErr\n",
    "\n",
    "logAge = np.log10(age)\n",
    "logAgeErr = (np.log10(age_68u) - np.log10(age_68l))/2.0\n",
    "\n",
    "data['logAge'] = logAge\n",
    "data['logAgeErr'] = logAgeErr"
   ]
  },
  {
   "cell_type": "code",
   "execution_count": 9,
   "metadata": {},
   "outputs": [
    {
     "data": {
      "text/plain": [
       "3036"
      ]
     },
     "execution_count": 9,
     "metadata": {},
     "output_type": "execute_result"
    },
    {
     "data": {
      "image/png": "[encoded data removed]",
      "text/plain": [
       "<Figure size 432x288 with 1 Axes>"
      ]
     },
     "metadata": {
      "needs_background": "light"
     },
     "output_type": "display_data"
    }
   ],
   "source": [
    "plt.hist(logAge)\n",
    "len(logAge)"
   ]
  },
  {
   "cell_type": "code",
   "execution_count": 10,
   "metadata": {},
   "outputs": [],
   "source": [
    "dist = data['dist']\n",
    "dist_68u = data['dist_68U']\n",
    "dist_68l = data['dist_68L']\n",
    "dist_err = (dist_68u - dist_68l)/2.0\n",
    "\n",
    "# This is distance in kpc\n",
    "# Make sure you change this in the distance modulus\n",
    "\n",
    "dist_kpc = dist/1000\n",
    "logDistKpc = np.log10(dist_kpc)\n",
    "\n",
    "dist_68u_kpc = dist_68u/1000\n",
    "dist_68l_kpc = dist_68l/1000\n",
    "dist_kpc_err = dist_err/1000\n",
    "\n",
    "logDistKpcErr = (np.log10(dist_68u_kpc) - np.log10(dist_68l_kpc))/2.0\n",
    "\n",
    "data['distKpc'] = dist_kpc\n",
    "data['distKpc_68u'] = dist_68u_kpc\n",
    "data['distKpc_68l'] = dist_68l_kpc\n",
    "data['distErrKpc'] = dist_kpc_err\n",
    "\n",
    "# Get the log(distance) error\n",
    "# Also make sure you save an APOGEE id etc. Done\n",
    "\n",
    "data['logDistKpc'] = logDistKpc\n",
    "data['logDistKpcErr'] = logDistKpcErr"
   ]
  },
  {
   "cell_type": "code",
   "execution_count": 11,
   "metadata": {},
   "outputs": [],
   "source": [
    "feats = ['APOGEE_ID_1', 'source_id', 'LOGG', 'TEFF', 'ALPHA_M', 'M_H', 'C_FE', 'N_FE', \\\n",
    "           'G', 'BP', 'RP', 'J', 'H', 'K', 'LOGG_ERR', 'TEFF_ERR', 'ALPHA_M_ERR', 'M_H_ERR', 'C_FE_ERR', 'N_FE_ERR', \\\n",
    "           'G_ERR', 'BP_ERR', 'RP_ERR', 'J_ERR', 'H_ERR', 'K_ERR', \\\n",
    "           'age', 'age_68U', 'age_68L', 'ageErr', 'logAge', 'logAgeErr', \\\n",
    "           'distKpc', 'distKpc_68u','distKpc_68l', 'distErrKpc', 'logDistKpc', 'logDistKpcErr']\n",
    "\n",
    "dataOfInterest = data[feats]"
   ]
  },
  {
   "cell_type": "code",
   "execution_count": 12,
   "metadata": {},
   "outputs": [
    {
     "data": {
      "text/plain": [
       "(array([  19.,  509.,  542.,  801., 1006.,  114.,   32.,    6.,    2.,\n",
       "           5.]),\n",
       " array([0.001128  , 0.00244201, 0.00375602, 0.00507004, 0.00638405,\n",
       "        0.00769806, 0.00901207, 0.01032609, 0.0116401 , 0.01295411,\n",
       "        0.01426812]),\n",
       " <a list of 10 Patch objects>)"
      ]
     },
     "execution_count": 12,
     "metadata": {},
     "output_type": "execute_result"
    },
    {
     "data": {
      "image/png": "[encoded data removed]",
      "text/plain": [
       "<Figure size 432x288 with 1 Axes>"
      ]
     },
     "metadata": {
      "needs_background": "light"
     },
     "output_type": "display_data"
    }
   ],
   "source": [
    "plt.hist(dataOfInterest['logDistKpcErr'])"
   ]
  },
  {
   "cell_type": "code",
   "execution_count": 13,
   "metadata": {},
   "outputs": [],
   "source": [
    "dataOfInterest.to_csv('../train_data/AllOriginal.csv')"
   ]
  },
  {
   "cell_type": "code",
   "execution_count": 14,
   "metadata": {},
   "outputs": [
    {
     "data": {
      "text/html": [
       "<div>\n",
       "<style scoped>\n",
       "    .dataframe tbody tr th:only-of-type {\n",
       "        vertical-align: middle;\n",
       "    }\n",
       "\n",
       "    .dataframe tbody tr th {\n",
       "        vertical-align: top;\n",
       "    }\n",
       "\n",
       "    .dataframe thead th {\n",
       "        text-align: right;\n",
       "    }\n",
       "</style>\n",
       "<table border=\"1\" class=\"dataframe\">\n",
       "  <thead>\n",
       "    <tr style=\"text-align: right;\">\n",
       "      <th></th>\n",
       "      <th>APOGEE_ID_1</th>\n",
       "      <th>source_id</th>\n",
       "      <th>LOGG</th>\n",
       "      <th>TEFF</th>\n",
       "      <th>ALPHA_M</th>\n",
       "      <th>M_H</th>\n",
       "      <th>C_FE</th>\n",
       "      <th>N_FE</th>\n",
       "      <th>G</th>\n",
       "      <th>BP</th>\n",
       "      <th>...</th>\n",
       "      <th>age_68L</th>\n",
       "      <th>ageErr</th>\n",
       "      <th>logAge</th>\n",
       "      <th>logAgeErr</th>\n",
       "      <th>distKpc</th>\n",
       "      <th>distKpc_68u</th>\n",
       "      <th>distKpc_68l</th>\n",
       "      <th>distErrKpc</th>\n",
       "      <th>logDistKpc</th>\n",
       "      <th>logDistKpcErr</th>\n",
       "    </tr>\n",
       "  </thead>\n",
       "  <tbody>\n",
       "    <tr>\n",
       "      <th>0</th>\n",
       "      <td>2M19252021+3647118</td>\n",
       "      <td>2050240782362231552</td>\n",
       "      <td>2.822838</td>\n",
       "      <td>4636.0260</td>\n",
       "      <td>0.022572</td>\n",
       "      <td>0.275174</td>\n",
       "      <td>0.020502</td>\n",
       "      <td>0.419455</td>\n",
       "      <td>12.049109</td>\n",
       "      <td>12.669947</td>\n",
       "      <td>...</td>\n",
       "      <td>4.8417</td>\n",
       "      <td>1.35930</td>\n",
       "      <td>0.779149</td>\n",
       "      <td>0.096771</td>\n",
       "      <td>1.232919</td>\n",
       "      <td>1.251669</td>\n",
       "      <td>1.214507</td>\n",
       "      <td>0.018581</td>\n",
       "      <td>0.090935</td>\n",
       "      <td>0.006545</td>\n",
       "    </tr>\n",
       "    <tr>\n",
       "      <th>1</th>\n",
       "      <td>2M19241746+3651460</td>\n",
       "      <td>2050255316531404032</td>\n",
       "      <td>2.432568</td>\n",
       "      <td>4776.1060</td>\n",
       "      <td>-0.005595</td>\n",
       "      <td>0.057919</td>\n",
       "      <td>-0.088357</td>\n",
       "      <td>0.342604</td>\n",
       "      <td>12.584685</td>\n",
       "      <td>13.218509</td>\n",
       "      <td>...</td>\n",
       "      <td>4.1697</td>\n",
       "      <td>0.96185</td>\n",
       "      <td>0.692732</td>\n",
       "      <td>0.082377</td>\n",
       "      <td>2.255723</td>\n",
       "      <td>2.272414</td>\n",
       "      <td>2.238463</td>\n",
       "      <td>0.016976</td>\n",
       "      <td>0.353286</td>\n",
       "      <td>0.003269</td>\n",
       "    </tr>\n",
       "    <tr>\n",
       "      <th>2</th>\n",
       "      <td>2M19261297+3648265</td>\n",
       "      <td>2051694027492941696</td>\n",
       "      <td>2.526513</td>\n",
       "      <td>4933.1810</td>\n",
       "      <td>0.005142</td>\n",
       "      <td>0.028102</td>\n",
       "      <td>-0.203984</td>\n",
       "      <td>0.408586</td>\n",
       "      <td>11.720373</td>\n",
       "      <td>12.297697</td>\n",
       "      <td>...</td>\n",
       "      <td>1.7069</td>\n",
       "      <td>0.13250</td>\n",
       "      <td>0.278022</td>\n",
       "      <td>0.031338</td>\n",
       "      <td>1.634047</td>\n",
       "      <td>1.646224</td>\n",
       "      <td>1.620317</td>\n",
       "      <td>0.012954</td>\n",
       "      <td>0.213265</td>\n",
       "      <td>0.003444</td>\n",
       "    </tr>\n",
       "    <tr>\n",
       "      <th>3</th>\n",
       "      <td>2M19250718+3654252</td>\n",
       "      <td>2050245627085389184</td>\n",
       "      <td>2.775030</td>\n",
       "      <td>4803.0825</td>\n",
       "      <td>0.004583</td>\n",
       "      <td>-0.008960</td>\n",
       "      <td>-0.141116</td>\n",
       "      <td>0.373124</td>\n",
       "      <td>11.912818</td>\n",
       "      <td>12.497253</td>\n",
       "      <td>...</td>\n",
       "      <td>3.2810</td>\n",
       "      <td>0.95270</td>\n",
       "      <td>0.618707</td>\n",
       "      <td>0.099430</td>\n",
       "      <td>1.268516</td>\n",
       "      <td>1.286735</td>\n",
       "      <td>1.249425</td>\n",
       "      <td>0.018655</td>\n",
       "      <td>0.103296</td>\n",
       "      <td>0.006390</td>\n",
       "    </tr>\n",
       "    <tr>\n",
       "      <th>4</th>\n",
       "      <td>2M19252149+3654097</td>\n",
       "      <td>2050244733732234112</td>\n",
       "      <td>2.930188</td>\n",
       "      <td>4818.7980</td>\n",
       "      <td>-0.011045</td>\n",
       "      <td>0.106488</td>\n",
       "      <td>-0.209060</td>\n",
       "      <td>0.382780</td>\n",
       "      <td>10.622860</td>\n",
       "      <td>11.168686</td>\n",
       "      <td>...</td>\n",
       "      <td>3.2734</td>\n",
       "      <td>0.94180</td>\n",
       "      <td>0.612455</td>\n",
       "      <td>0.098699</td>\n",
       "      <td>0.638877</td>\n",
       "      <td>0.649120</td>\n",
       "      <td>0.630231</td>\n",
       "      <td>0.009445</td>\n",
       "      <td>-0.194583</td>\n",
       "      <td>0.006413</td>\n",
       "    </tr>\n",
       "  </tbody>\n",
       "</table>\n",
       "<p>5 rows × 38 columns</p>\n",
       "</div>"
      ],
      "text/plain": [
       "          APOGEE_ID_1            source_id      LOGG       TEFF   ALPHA_M  \\\n",
       "0  2M19252021+3647118  2050240782362231552  2.822838  4636.0260  0.022572   \n",
       "1  2M19241746+3651460  2050255316531404032  2.432568  4776.1060 -0.005595   \n",
       "2  2M19261297+3648265  2051694027492941696  2.526513  4933.1810  0.005142   \n",
       "3  2M19250718+3654252  2050245627085389184  2.775030  4803.0825  0.004583   \n",
       "4  2M19252149+3654097  2050244733732234112  2.930188  4818.7980 -0.011045   \n",
       "\n",
       "        M_H      C_FE      N_FE          G         BP  ...  age_68L   ageErr  \\\n",
       "0  0.275174  0.020502  0.419455  12.049109  12.669947  ...   4.8417  1.35930   \n",
       "1  0.057919 -0.088357  0.342604  12.584685  13.218509  ...   4.1697  0.96185   \n",
       "2  0.028102 -0.203984  0.408586  11.720373  12.297697  ...   1.7069  0.13250   \n",
       "3 -0.008960 -0.141116  0.373124  11.912818  12.497253  ...   3.2810  0.95270   \n",
       "4  0.106488 -0.209060  0.382780  10.622860  11.168686  ...   3.2734  0.94180   \n",
       "\n",
       "     logAge  logAgeErr   distKpc  distKpc_68u  distKpc_68l  distErrKpc  \\\n",
       "0  0.779149   0.096771  1.232919     1.251669     1.214507    0.018581   \n",
       "1  0.692732   0.082377  2.255723     2.272414     2.238463    0.016976   \n",
       "2  0.278022   0.031338  1.634047     1.646224     1.620317    0.012954   \n",
       "3  0.618707   0.099430  1.268516     1.286735     1.249425    0.018655   \n",
       "4  0.612455   0.098699  0.638877     0.649120     0.630231    0.009445   \n",
       "\n",
       "   logDistKpc  logDistKpcErr  \n",
       "0    0.090935       0.006545  \n",
       "1    0.353286       0.003269  \n",
       "2    0.213265       0.003444  \n",
       "3    0.103296       0.006390  \n",
       "4   -0.194583       0.006413  \n",
       "\n",
       "[5 rows x 38 columns]"
      ]
     },
     "execution_count": 14,
     "metadata": {},
     "output_type": "execute_result"
    }
   ],
   "source": [
    "dataOfInterest.head(5)"
   ]
  },
  {
   "cell_type": "code",
   "execution_count": 15,
   "metadata": {},
   "outputs": [
    {
     "data": {
      "text/plain": [
       "3036"
      ]
     },
     "execution_count": 15,
     "metadata": {},
     "output_type": "execute_result"
    }
   ],
   "source": [
    "len(dataOfInterest)"
   ]
  },
  {
   "cell_type": "code",
   "execution_count": null,
   "metadata": {},
   "outputs": [],
   "source": []
  }
 ],
 "metadata": {
  "kernelspec": {
   "display_name": "Python 3",
   "language": "python",
   "name": "python3"
  },
  "language_info": {
   "codemirror_mode": {
    "name": "ipython",
    "version": 3
   },
   "file_extension": ".py",
   "mimetype": "text/x-python",
   "name": "python",
   "nbconvert_exporter": "python",
   "pygments_lexer": "ipython3",
   "version": "3.6.6"
  }
 },
 "nbformat": 4,
 "nbformat_minor": 2
}
