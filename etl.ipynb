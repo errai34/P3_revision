{
 "cells": [
  {
   "cell_type": "code",
   "execution_count": 6,
   "metadata": {},
   "outputs": [],
   "source": [
    "import pandas as pd\n",
    "import numpy as np\n"
   ]
  },
  {
   "cell_type": "code",
   "execution_count": 42,
   "metadata": {},
   "outputs": [],
   "source": [
    "df = pd.read_csv('data/andrea_data.csv', skiprows=1)"
   ]
  },
  {
   "cell_type": "code",
   "execution_count": 43,
   "metadata": {},
   "outputs": [
    {
     "data": {
      "text/plain": [
       "APOGEE_ID,     object\n",
       "KIC,            int64\n",
       "RA,           float64\n",
       "DEC,          float64\n",
       "FE_H,         float64\n",
       "A_FE,         float64\n",
       "age,          float64\n",
       "age_68L,      float64\n",
       "age_68U,      float64\n",
       "mass,         float64\n",
       "mass_68L,     float64\n",
       "mass_68U,     float64\n",
       "dist,         float64\n",
       "dist_68L,     float64\n",
       "dist_68U,     float64\n",
       "Av,           float64\n",
       "Av_68L,       float64\n",
       "Av_68U,       float64\n",
       "evstate         int64\n",
       "dtype: object"
      ]
     },
     "execution_count": 43,
     "metadata": {},
     "output_type": "execute_result"
    }
   ],
   "source": [
    "df.dtypes"
   ]
  },
  {
   "cell_type": "code",
   "execution_count": 44,
   "metadata": {},
   "outputs": [
    {
     "data": {
      "text/plain": [
       "APOGEE_ID,     object\n",
       "KIC,            int64\n",
       "RA,           float64\n",
       "DEC,          float64\n",
       "FE_H,         float64\n",
       "A_FE,         float64\n",
       "age,          float64\n",
       "age_68L,      float64\n",
       "age_68U,      float64\n",
       "mass,         float64\n",
       "mass_68L,     float64\n",
       "mass_68U,     float64\n",
       "dist,         float64\n",
       "dist_68L,     float64\n",
       "dist_68U,     float64\n",
       "Av,           float64\n",
       "Av_68L,       float64\n",
       "Av_68U,       float64\n",
       "evstate         int64\n",
       "dtype: object"
      ]
     },
     "execution_count": 44,
     "metadata": {},
     "output_type": "execute_result"
    }
   ],
   "source": [
    "df.dtypes"
   ]
  },
  {
   "cell_type": "code",
   "execution_count": 45,
   "metadata": {},
   "outputs": [],
   "source": [
    "df.columns = df.columns.str.replace(',','')"
   ]
  },
  {
   "cell_type": "code",
   "execution_count": 46,
   "metadata": {},
   "outputs": [
    {
     "data": {
      "text/plain": [
       "Index(['APOGEE_ID', 'KIC', 'RA', 'DEC', 'FE_H', 'A_FE', 'age', 'age_68L',\n",
       "       'age_68U', 'mass', 'mass_68L', 'mass_68U', 'dist', 'dist_68L',\n",
       "       'dist_68U', 'Av', 'Av_68L', 'Av_68U', 'evstate'],\n",
       "      dtype='object')"
      ]
     },
     "execution_count": 46,
     "metadata": {},
     "output_type": "execute_result"
    }
   ],
   "source": [
    "df.columns"
   ]
  },
  {
   "cell_type": "code",
   "execution_count": 47,
   "metadata": {},
   "outputs": [
    {
     "data": {
      "text/html": [
       "<div>\n",
       "<style scoped>\n",
       "    .dataframe tbody tr th:only-of-type {\n",
       "        vertical-align: middle;\n",
       "    }\n",
       "\n",
       "    .dataframe tbody tr th {\n",
       "        vertical-align: top;\n",
       "    }\n",
       "\n",
       "    .dataframe thead th {\n",
       "        text-align: right;\n",
       "    }\n",
       "</style>\n",
       "<table border=\"1\" class=\"dataframe\">\n",
       "  <thead>\n",
       "    <tr style=\"text-align: right;\">\n",
       "      <th></th>\n",
       "      <th>APOGEE_ID</th>\n",
       "      <th>KIC</th>\n",
       "      <th>RA</th>\n",
       "      <th>DEC</th>\n",
       "      <th>FE_H</th>\n",
       "      <th>A_FE</th>\n",
       "      <th>age</th>\n",
       "      <th>age_68L</th>\n",
       "      <th>age_68U</th>\n",
       "      <th>mass</th>\n",
       "      <th>mass_68L</th>\n",
       "      <th>mass_68U</th>\n",
       "      <th>dist</th>\n",
       "      <th>dist_68L</th>\n",
       "      <th>dist_68U</th>\n",
       "      <th>Av</th>\n",
       "      <th>Av_68L</th>\n",
       "      <th>Av_68U</th>\n",
       "      <th>evstate</th>\n",
       "    </tr>\n",
       "  </thead>\n",
       "  <tbody>\n",
       "    <tr>\n",
       "      <th>0</th>\n",
       "      <td>2M19250937+3644599</td>\n",
       "      <td>1027110</td>\n",
       "      <td>291.28906</td>\n",
       "      <td>36.74998</td>\n",
       "      <td>-0.23222</td>\n",
       "      <td>0.20453</td>\n",
       "      <td>16.2124</td>\n",
       "      <td>11.3501</td>\n",
       "      <td>24.1938</td>\n",
       "      <td>0.8840</td>\n",
       "      <td>0.7943</td>\n",
       "      <td>0.9754</td>\n",
       "      <td>2598.2130</td>\n",
       "      <td>2536.5302</td>\n",
       "      <td>2663.6808</td>\n",
       "      <td>0.3496</td>\n",
       "      <td>0.2422</td>\n",
       "      <td>0.4648</td>\n",
       "      <td>0</td>\n",
       "    </tr>\n",
       "    <tr>\n",
       "      <th>1</th>\n",
       "      <td>2M19252021+3647118</td>\n",
       "      <td>1027337</td>\n",
       "      <td>291.33421</td>\n",
       "      <td>36.78664</td>\n",
       "      <td>0.27517</td>\n",
       "      <td>0.02257</td>\n",
       "      <td>6.0138</td>\n",
       "      <td>4.8417</td>\n",
       "      <td>7.5603</td>\n",
       "      <td>1.2304</td>\n",
       "      <td>1.1658</td>\n",
       "      <td>1.3181</td>\n",
       "      <td>1232.9190</td>\n",
       "      <td>1214.5069</td>\n",
       "      <td>1251.6686</td>\n",
       "      <td>0.2401</td>\n",
       "      <td>0.1750</td>\n",
       "      <td>0.3141</td>\n",
       "      <td>1</td>\n",
       "    </tr>\n",
       "    <tr>\n",
       "      <th>2</th>\n",
       "      <td>2M19233280+3652207</td>\n",
       "      <td>1160789</td>\n",
       "      <td>290.88667</td>\n",
       "      <td>36.87243</td>\n",
       "      <td>-0.25745</td>\n",
       "      <td>0.18750</td>\n",
       "      <td>16.5561</td>\n",
       "      <td>12.6270</td>\n",
       "      <td>21.6187</td>\n",
       "      <td>0.8531</td>\n",
       "      <td>0.8070</td>\n",
       "      <td>0.9119</td>\n",
       "      <td>668.8936</td>\n",
       "      <td>658.4153</td>\n",
       "      <td>678.4895</td>\n",
       "      <td>0.0983</td>\n",
       "      <td>0.0522</td>\n",
       "      <td>0.1748</td>\n",
       "      <td>2</td>\n",
       "    </tr>\n",
       "    <tr>\n",
       "      <th>3</th>\n",
       "      <td>2M19241746+3651460</td>\n",
       "      <td>1161447</td>\n",
       "      <td>291.07278</td>\n",
       "      <td>36.86280</td>\n",
       "      <td>0.05792</td>\n",
       "      <td>-0.00560</td>\n",
       "      <td>4.9287</td>\n",
       "      <td>4.1697</td>\n",
       "      <td>6.0934</td>\n",
       "      <td>1.2459</td>\n",
       "      <td>1.1694</td>\n",
       "      <td>1.3278</td>\n",
       "      <td>2255.7231</td>\n",
       "      <td>2238.4626</td>\n",
       "      <td>2272.4140</td>\n",
       "      <td>0.3725</td>\n",
       "      <td>0.3450</td>\n",
       "      <td>0.4121</td>\n",
       "      <td>2</td>\n",
       "    </tr>\n",
       "    <tr>\n",
       "      <th>4</th>\n",
       "      <td>2M19242614+3648478</td>\n",
       "      <td>1161618</td>\n",
       "      <td>291.10892</td>\n",
       "      <td>36.81329</td>\n",
       "      <td>0.06420</td>\n",
       "      <td>0.00514</td>\n",
       "      <td>7.1264</td>\n",
       "      <td>5.9566</td>\n",
       "      <td>8.3395</td>\n",
       "      <td>1.1053</td>\n",
       "      <td>1.0519</td>\n",
       "      <td>1.1703</td>\n",
       "      <td>775.3649</td>\n",
       "      <td>766.4784</td>\n",
       "      <td>784.2935</td>\n",
       "      <td>0.2291</td>\n",
       "      <td>0.1676</td>\n",
       "      <td>0.2648</td>\n",
       "      <td>2</td>\n",
       "    </tr>\n",
       "  </tbody>\n",
       "</table>\n",
       "</div>"
      ],
      "text/plain": [
       "            APOGEE_ID      KIC         RA       DEC     FE_H     A_FE  \\\n",
       "0  2M19250937+3644599  1027110  291.28906  36.74998 -0.23222  0.20453   \n",
       "1  2M19252021+3647118  1027337  291.33421  36.78664  0.27517  0.02257   \n",
       "2  2M19233280+3652207  1160789  290.88667  36.87243 -0.25745  0.18750   \n",
       "3  2M19241746+3651460  1161447  291.07278  36.86280  0.05792 -0.00560   \n",
       "4  2M19242614+3648478  1161618  291.10892  36.81329  0.06420  0.00514   \n",
       "\n",
       "       age  age_68L  age_68U    mass  mass_68L  mass_68U       dist  \\\n",
       "0  16.2124  11.3501  24.1938  0.8840    0.7943    0.9754  2598.2130   \n",
       "1   6.0138   4.8417   7.5603  1.2304    1.1658    1.3181  1232.9190   \n",
       "2  16.5561  12.6270  21.6187  0.8531    0.8070    0.9119   668.8936   \n",
       "3   4.9287   4.1697   6.0934  1.2459    1.1694    1.3278  2255.7231   \n",
       "4   7.1264   5.9566   8.3395  1.1053    1.0519    1.1703   775.3649   \n",
       "\n",
       "    dist_68L   dist_68U      Av  Av_68L  Av_68U  evstate  \n",
       "0  2536.5302  2663.6808  0.3496  0.2422  0.4648        0  \n",
       "1  1214.5069  1251.6686  0.2401  0.1750  0.3141        1  \n",
       "2   658.4153   678.4895  0.0983  0.0522  0.1748        2  \n",
       "3  2238.4626  2272.4140  0.3725  0.3450  0.4121        2  \n",
       "4   766.4784   784.2935  0.2291  0.1676  0.2648        2  "
      ]
     },
     "execution_count": 47,
     "metadata": {},
     "output_type": "execute_result"
    }
   ],
   "source": [
    "df.head(5)"
   ]
  },
  {
   "cell_type": "code",
   "execution_count": 49,
   "metadata": {},
   "outputs": [],
   "source": [
    "df.to_csv('data/andrea_data_proc.csv')"
   ]
  },
  {
   "cell_type": "code",
   "execution_count": null,
   "metadata": {},
   "outputs": [],
   "source": []
  }
 ],
 "metadata": {
  "kernelspec": {
   "display_name": "Python 3",
   "language": "python",
   "name": "python3"
  },
  "language_info": {
   "codemirror_mode": {
    "name": "ipython",
    "version": 3
   },
   "file_extension": ".py",
   "mimetype": "text/x-python",
   "name": "python",
   "nbconvert_exporter": "python",
   "pygments_lexer": "ipython3",
   "version": "3.6.6"
  }
 },
 "nbformat": 4,
 "nbformat_minor": 2
}
